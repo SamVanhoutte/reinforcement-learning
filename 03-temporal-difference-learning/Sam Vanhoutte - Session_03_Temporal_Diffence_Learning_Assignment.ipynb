{
 "cells": [
  {
   "cell_type": "markdown",
   "metadata": {},
   "source": [
    "# Session 03 - Temporal Difference Learning - Assignment"
   ]
  },
  {
   "cell_type": "markdown",
   "metadata": {},
   "source": [
    "## Generic functions"
   ]
  },
  {
   "cell_type": "code",
   "execution_count": 4,
   "metadata": {
    "ExecuteTime": {
     "end_time": "2022-05-04T14:09:20.329556Z",
     "start_time": "2022-05-04T14:09:20.167164Z"
    }
   },
   "outputs": [],
   "source": [
    "# Cliff walking\n",
    "\n",
    "import gymgrid2 #pip install gymgrid\n",
    "import numpy as np\n",
    "import gym\n"
   ]
  },
  {
   "cell_type": "code",
   "execution_count": 5,
   "metadata": {
    "ExecuteTime": {
     "end_time": "2022-05-04T14:09:20.583866Z",
     "start_time": "2022-05-04T14:09:20.374921Z"
    }
   },
   "outputs": [],
   "source": [
    "import numpy as np\n",
    "from matplotlib import pyplot as plt\n",
    "\n",
    "def plot_mov_avg(value_list: list, n: int=10):\n",
    "    values = np.array(value_list)\n",
    "    cumsum = np.cumsum(np.insert(values, 0, 0)) \n",
    "    moving_averages = (cumsum[n:] - cumsum[:-n]) / float(n)\n",
    "    plt.plot(value_list)\n",
    "    plt.plot(moving_averages)"
   ]
  },
  {
   "cell_type": "code",
   "execution_count": 6,
   "metadata": {
    "ExecuteTime": {
     "end_time": "2022-05-04T14:09:20.658326Z",
     "start_time": "2022-05-04T14:09:20.608418Z"
    }
   },
   "outputs": [
    {
     "name": "stdout",
     "output_type": "stream",
     "text": [
      "pygame 2.1.2 (SDL 2.0.18, Python 3.9.7)\n",
      "Hello from the pygame community. https://www.pygame.org/contribute.html\n"
     ]
    }
   ],
   "source": [
    "import pygame\n",
    "\n",
    "def render_board(env, episode: int, epoch: int):\n",
    "    #return\n",
    "    #os.system('clear')\n",
    "    pygame.display.set_caption(f'Episode {episode+1}')\n",
    "    #print(f\"Episode #{episode}\")\n",
    "    #print(f\"Epoch #{epoch}\")\n",
    "    env.render()"
   ]
  },
  {
   "cell_type": "markdown",
   "metadata": {},
   "source": [
    "## Cliff walking\n",
    "\n",
    "Implement Q-learning and SARSA to solve the cliff walking environment. The cliff walking environment is part of the gymgrid package. \n",
    "To install gymgryd: **pip3 install gymgrid**. More information can be found here: https://pypi.org/project/gymgrid/.\n",
    "The goal for the agent is to find its way from start to finish without falling from the cliff. This is a standard episodic task, with start and goal states, and the usual actions causing movement up, down, right, and left. Reward is -1 on all transitions except those into the region marked Cliff. Stepping into this region incurs a reward of optimal path -100 and sends the agent instantly back to the start.\n",
    "\n",
    "- Implement the Q-learning algorithm. Write your own implementation and tune the hyperparameters (learning rate, discount factor, epsilon). Use epsilon decay if necessary. \n",
    "> **See below.  All parameters are used and available, not much time for tuning though**\n",
    "    \n",
    "- Record the learning history. This means that for each episode you register the total episodic reward. After learning, plot the training history (x-axis = episode number; y-axis: total episodic reward). Especially in the beginning, the episodic rewards can be erratic because the agent is still exploring and has little knowledge of the environment. Therefore it can be a good idea to plot the moving average of the episodic rewards. For example, the average episodic reward achieved over 10 episodes.\n",
    "> **See below.  Plotted all results**\n",
    "\n",
    "- Check if you can make the agent learn faster by using an adaptive learning rate. You start with a high learning rate and you decrease gradually as the agent learns.\n",
    "> **This is easily possible, by applying same logic as for decaying epsilon value.  As the path was easily found, it normally will have even faster results, by adapting the alpha**\n",
    "\n",
    "- Can you change the reward function in order to make the agent learn faster. For example by changing the reward values or by adding new rewards that make the reward function less sparse.\n",
    "> **I adapted the logic to give a bigger reward when completing the final state, which results in larger Q values for the correct actions**\n",
    "\n",
    "- Modify you Q-learing implementation to a SARSA implementation.\n",
    "> **See below, mostly the bellman equation is where the changes were**\n",
    "\n",
    "- Compare Q-learing with SARSA in terms of speed of learning, but especially in terms of the learned policy. \n",
    "> **Sarsa takes a 'safer' path, which results in more actions to be taken, typically.  Q-learning will use less actions and therefore is more risky, especially when the environment can have dynamic behavior.  But the learning is faster with the greedy approach, typically**"
   ]
  },
  {
   "cell_type": "markdown",
   "metadata": {},
   "source": [
    "### Q Learning"
   ]
  },
  {
   "cell_type": "code",
   "execution_count": 40,
   "metadata": {},
   "outputs": [],
   "source": [
    "class CliffQAgent:\n",
    "    \n",
    "    def __init__(self, env, alpha, gamma, epsilon, decay):\n",
    "        self.alpha = alpha\n",
    "        self.gamma = gamma\n",
    "        self.epsilon = epsilon\n",
    "        self.decay = decay\n",
    "        self.nr_states = env.observation_space.n\n",
    "        self.nr_actions = env.action_space.n\n",
    "        self.state = 0\n",
    "        self.possible_actions = range(env.action_space.n)\n",
    "        self.q_table = np.zeros((self.nr_states, self.nr_actions))\n",
    "  \n",
    "        \n",
    "    def compute_action(self, state, debug: bool = False):\n",
    "        from random import sample\n",
    "        import random\n",
    "    \n",
    "        self.state = state\n",
    "        self.epsilon = self.epsilon * self.decay\n",
    "        if np.random.uniform() < epsilon:\n",
    "            if debug:\n",
    "                print(f'Explore - {self.r} < {self.epsilon}')\n",
    "            self.action = random.choice(self.possible_actions)\n",
    "        else:\n",
    "            if debug:\n",
    "                print(f'Exploit - {self.r} > {self.epsilon}')\n",
    "            self.action = np.argmax(self.q_table[state,:])\n",
    "\n",
    "        return self.action\n",
    "    \n",
    "    def update_qtable(self, state, new_state, reward):\n",
    "        self.reward = reward\n",
    "        self.state = state\n",
    "        self.new_state = new_state\n",
    "\n",
    "        # Bellman equation\n",
    "        old_q_value = self.q_table[state, action]\n",
    "        new_q_value = ((1-self.alpha) * old_q_value) + (self.alpha * (reward + (self.gamma * max(self.q_table[new_state,:]))))\n",
    "\n",
    "        self.q_table[state, self.action] = new_q_value\n",
    "        \n",
    "        "
   ]
  },
  {
   "cell_type": "code",
   "execution_count": 41,
   "metadata": {},
   "outputs": [
    {
     "data": {
      "text/plain": [
       "0"
      ]
     },
     "execution_count": 41,
     "metadata": {},
     "output_type": "execute_result"
    },
    {
     "data": {
      "image/png": "[encoded data removed]",
      "text/plain": [
       "<Figure size 432x288 with 1 Axes>"
      ]
     },
     "metadata": {
      "needs_background": "light"
     },
     "output_type": "display_data"
    }
   ],
   "source": [
    "nr_of_episodes = 1000\n",
    "alpha = 0.2\n",
    "gamma = 0.3\n",
    "decay = 1 # no decay = 1\n",
    "epsilon = 0.15\n",
    "debug = False\n",
    "render_rate = 2000\n",
    "\n",
    "# load the environment\n",
    "env = gym.make('cliff-v0')\n",
    "state = env.reset()\n",
    "\n",
    "q_agent = CliffQAgent(env, alpha, gamma, epsilon, decay)\n",
    "episode_awards = list()\n",
    "\n",
    "for n in range(nr_of_episodes):\n",
    "    episode_award = 0\n",
    "    state = env.reset()\n",
    "    new_state = state\n",
    "    for t in range(200):\n",
    "        \n",
    "        action = q_agent.compute_action(state, debug)\n",
    "        new_state, reward, done, _ =  env.step(action)\n",
    "        q_agent.update_qtable(state, new_state, reward)\n",
    "        \n",
    "        state = new_state\n",
    "        if reward == 0 :\n",
    "            # Making sure the completion of the level results in a large reward\n",
    "            reward = 100 \n",
    "        episode_award += reward\n",
    "        if reward <= -100 or reward >= 0:\n",
    "            # Strange issue that is not setting the done variable correctly, so working around this\n",
    "            if debug:\n",
    "                print(f'Episode {n+1} completed with episode_award {episode_award} reward {reward}!')\n",
    "            # Show where board finished\n",
    "            render_board(env, n, t)\n",
    "            break\n",
    "        \n",
    "\n",
    "    render_board(env, n, t)\n",
    "    episode_awards.append(episode_award)\n",
    "\n",
    "plot_mov_avg(episode_awards, 30)\n",
    "env.reset()"
   ]
  },
  {
   "cell_type": "code",
   "execution_count": 42,
   "metadata": {},
   "outputs": [
    {
     "data": {
      "image/png": "[encoded data removed]",
      "text/plain": [
       "<Figure size 432x288 with 2 Axes>"
      ]
     },
     "metadata": {
      "needs_background": "light"
     },
     "output_type": "display_data"
    }
   ],
   "source": [
    "# Plotting a heatmap of the q table\n",
    "import numpy as np\n",
    "import seaborn as sns\n",
    "import matplotlib.pylab as plt\n",
    "\n",
    "\n",
    "ax = sns.heatmap(q_agent.q_table, linewidth=0.5)\n",
    "plt.show()"
   ]
  },
  {
   "cell_type": "markdown",
   "metadata": {},
   "source": [
    "### Sarsa implementation"
   ]
  },
  {
   "cell_type": "code",
   "execution_count": 20,
   "metadata": {
    "ExecuteTime": {
     "end_time": "2022-05-04T14:27:36.634826Z",
     "start_time": "2022-05-04T14:27:36.616181Z"
    }
   },
   "outputs": [],
   "source": [
    "from random import sample\n",
    "import random\n",
    "\n",
    "class CliffSarsaAgent:\n",
    "    def __init__(self, env, alpha, gamma, epsilon, decay):\n",
    "        self.alpha = alpha\n",
    "        self.gamma = gamma\n",
    "        self.epsilon = epsilon\n",
    "        self.decay = decay\n",
    "        self.nr_states = env.observation_space.n\n",
    "        self.nr_actions = env.action_space.n\n",
    "        self.state = 0\n",
    "        self.possible_actions = range(env.action_space.n)\n",
    "        self.q_table = np.zeros((self.nr_states, self.nr_actions))\n",
    "        self.action = random.choice(self.possible_actions)\n",
    "        \n",
    "    def compute_action(self, state, debug: bool = False):\n",
    "        self.state = state\n",
    "        self.epsilon = self.epsilon * self.decay\n",
    "        self.previous_action = self.action\n",
    "        self.r = np.random.uniform()\n",
    "        if self.r < epsilon:\n",
    "            self.action = random.choice(self.possible_actions)\n",
    "        else:\n",
    "            self.action = np.argmax(self.q_table[state,:])\n",
    "        \n",
    "        return self.action\n",
    "    \n",
    "    def update_qtable(self, state, new_state, reward):\n",
    "        self.reward = reward\n",
    "        self.state = state\n",
    "        self.new_state = new_state\n",
    "\n",
    "        # Bellman equation\n",
    "        predict_value = self.q_table[state, action]\n",
    "        target_value = reward + (self.gamma * self.q_table[new_state,self.previous_action])\n",
    "        self.q_table[state, self.action] = self.q_table[state, self.action] + alpha * (target_value - predict_value)\n",
    "   "
   ]
  },
  {
   "cell_type": "code",
   "execution_count": 21,
   "metadata": {
    "ExecuteTime": {
     "end_time": "2022-05-04T14:27:37.940434Z",
     "start_time": "2022-05-04T14:27:37.925761Z"
    }
   },
   "outputs": [],
   "source": [
    "nr_of_episodes = 1000\n",
    "alpha = 0.2\n",
    "gamma = 0.3\n",
    "decay = 1 # no decay = 1\n",
    "epsilon = 0.15\n",
    "debug = False\n",
    "render_rate = 2000\n",
    "\n",
    "# load the environment\n",
    "env = gym.make('cliff-v0')\n",
    "state = env.reset()\n",
    "\n"
   ]
  },
  {
   "cell_type": "code",
   "execution_count": 22,
   "metadata": {
    "ExecuteTime": {
     "end_time": "2022-05-04T14:27:39.885686Z",
     "start_time": "2022-05-04T14:27:39.882157Z"
    }
   },
   "outputs": [],
   "source": [
    "q_agent = CliffSarsaAgent(env, alpha, gamma, epsilon, decay)\n",
    "episode_awards = list()"
   ]
  },
  {
   "cell_type": "code",
   "execution_count": 23,
   "metadata": {
    "ExecuteTime": {
     "end_time": "2022-05-04T14:31:03.382773Z",
     "start_time": "2022-05-04T14:27:41.259139Z"
    }
   },
   "outputs": [
    {
     "data": {
      "text/plain": [
       "0"
      ]
     },
     "execution_count": 23,
     "metadata": {},
     "output_type": "execute_result"
    },
    {
     "data": {
      "image/png": "[encoded data removed]",
      "text/plain": [
       "<Figure size 432x288 with 1 Axes>"
      ]
     },
     "metadata": {
      "needs_background": "light"
     },
     "output_type": "display_data"
    }
   ],
   "source": [
    "for n in range(nr_of_episodes):\n",
    "    episode_award = 0\n",
    "    state = env.reset()\n",
    "    new_state = state\n",
    "    for t in range(200):\n",
    "        action = q_agent.compute_action(state, debug)\n",
    "        new_state, reward, done, _ =  env.step(action)\n",
    "        episode_award += reward\n",
    "        q_agent.update_qtable(state, new_state, reward)\n",
    "        \n",
    "        state = new_state\n",
    "        if reward == 0 :\n",
    "            # Making sure the completion of the level results in a large reward\n",
    "            reward = 100 \n",
    "        if reward <= -100 or reward >= 0:\n",
    "            # Strange issue that is not setting the done variable correctly, so working around this\n",
    "            if debug:\n",
    "                print(f'Episode {n+1} completed with episode_award {episode_award} reward {reward}!')\n",
    "            # Show where board finished\n",
    "            render_board(env, n, t)\n",
    "            break\n",
    "        \n",
    "\n",
    "    render_board(env, n, t)\n",
    "    episode_awards.append(episode_award)\n",
    "\n",
    "plot_mov_avg(episode_awards, 30)\n",
    "env.reset()"
   ]
  },
  {
   "cell_type": "markdown",
   "metadata": {},
   "source": [
    "## The cartpole environment\n",
    "\n",
    "Solve the cartpole environment by means of both Q-learning and SARSA. \n",
    "A pole is attached by an un-actuated joint to a cart, which moves along a frictionless track. The system is controlled by applying a force of +1 or -1 to the cart. The pendulum starts upright, and the goal is to prevent it from falling over. A reward of +1 is provided for every timestep that the pole remains upright. The episode ends when the pole is more than 15 degrees from vertical, or the cart moves more than 2.4 units from the center.\n",
    "\n",
    "Q-learing and SARSA take discrete states as inputs. The cartpole environments outputs continuous state vectors. \n",
    "Therefore you will have to discretize these continuous state vectors. \n",
    "For example the cart position can vary in the range of -2.4 -> 2.4. You will have to discretize this range in a number of bins (for example 10 bins).\n",
    "The numpy function 'digitize' can be used for discretization. More information about this function: https://numpy.org/doc/stable/reference/generated/numpy.digitize.html\n",
    "\n",
    "- Implement the Q-learning algorithm. Write your own implementation and tune the hyperparameters (learning rate, discount factor, epsilon). Use epsilon decay if necessary. \n",
    "> **I have to be honest that time was too limited to get this tuned well.  However, I have added both agents, and used the four state-variables (position, velocity, angle, angle_velocity) to create a 5D matrix, with a configurable number of bins.  That's definitely where there's more tuning and testing needed.  I just hope the logic I applied makes sense enough, to show I understand the approach**\n",
    "\n",
    "- Record the learning history. This means that for each episode you register the total episodic reward. After learning, plot the training history (x-axis = episode number; y-axis: total episodic reward). Especially in the beginning, the episodic rewards can be erratic because the agent is still exploring and has little knowledge of the environment. Therefore it can be a good idea to plot the moving average of the episodic rewards. For example, the average episodic reward achieved over 10 episodes.\n",
    "> **Same as above**\n",
    "\n",
    "- Check if you can make the agent learn faster by using an adaptive learning rate. You start with a high learning rate and you decrease gradually as the agent learns.\n",
    "> **Same as above**\n",
    "\n",
    "- Can you change the reward function in order to make the agent learn faster. For example by changing the reward values or by adding new rewards that make the reward function less sparse.\n",
    "> **Same as above**\n",
    "\n",
    "- Modify you Q-learing implementation to a SARSA implementation.\n",
    "> **See below**\n",
    "\n",
    "- Compare Q-learing with SARSA in terms of speed of learning, but especially in terms of the learned policy. \n",
    "> **Same as above**"
   ]
  },
  {
   "cell_type": "markdown",
   "metadata": {},
   "source": [
    "### Cartpole Q learning"
   ]
  },
  {
   "cell_type": "code",
   "execution_count": 7,
   "metadata": {
    "ExecuteTime": {
     "end_time": "2022-05-04T14:09:27.066936Z",
     "start_time": "2022-05-04T14:09:27.048819Z"
    }
   },
   "outputs": [],
   "source": [
    "from random import sample\n",
    "import random\n",
    "\n",
    "class PoleQAgent:\n",
    "    def __init__(self, nr_pos_bins, nr_velocity_bins, nr_angle_bins, nr_angle_vel_bins, nr_actions, alpha, gamma, epsilon, decay):\n",
    "        self.alpha = alpha\n",
    "        self.gamma = gamma\n",
    "        self.epsilon = epsilon\n",
    "        self.decay = decay\n",
    "        self.nr_pos_bins = nr_pos_bins\n",
    "        self.nr_velocity_bins = nr_velocity_bins\n",
    "        self.nr_angle_bins = nr_angle_bins\n",
    "        self.nr_angle_vel_bins = nr_angle_vel_bins\n",
    "        self.nr_actions = nr_actions\n",
    "        self.state = 0\n",
    "        self.possible_actions = [0, 1]\n",
    "        self.q_table = np.zeros((nr_pos_bins, nr_velocity_bins, nr_angle_bins, nr_angle_vel_bins, nr_actions))\n",
    "  \n",
    "        \n",
    "    def compute_action(self, state):\n",
    "        #state is 1x4 array: position, velocity, angle, angle_velocity\n",
    "        self.state = state\n",
    "        self.epsilon = self.epsilon * self.decay\n",
    "        self.r = np.random.uniform()\n",
    "        \n",
    "        position_bin = np.digitize(state, np.linspace(-2.4, 2.4, self.nr_pos_bins))[0]\n",
    "        vel_bin = np.digitize(state, np.linspace(-3, 3, self.nr_velocity_bins))[1]\n",
    "        angle_bin = np.digitize(state, np.linspace(-.21, .21, self.nr_angle_bins))[2]\n",
    "        angle_vel_bin = np.digitize(state, np.linspace(-4, 4, self.nr_angle_vel_bins))[3]\n",
    "        \n",
    "        \n",
    "        if self.r <= self.epsilon:\n",
    "            self.action = random.choice(self.possible_actions)\n",
    "        else:\n",
    "            self.action = np.argmax(self.q_table[position_bin, vel_bin, angle_bin, angle_vel_bin,:])\n",
    "\n",
    "        return self.action\n",
    "    \n",
    "    def update_qtable(self, state, new_state, reward):\n",
    "        self.reward = reward\n",
    "        self.state = state\n",
    "        self.new_state = new_state\n",
    "\n",
    "        position_bin = np.digitize(state, np.linspace(-2.4, 2.4, self.nr_pos_bins))[0]\n",
    "        vel_bin = np.digitize(state, np.linspace(-3, 3, self.nr_velocity_bins))[1]\n",
    "        angle_bin = np.digitize(state, np.linspace(-.21, .21, self.nr_angle_bins))[2]\n",
    "        angle_vel_bin = np.digitize(state, np.linspace(-4, 4, self.nr_angle_vel_bins))[3]\n",
    "\n",
    "        # Bellman equation\n",
    "        old_q_value = self.q_table[position_bin, vel_bin, angle_bin, angle_vel_bin, action]\n",
    "        new_q_value = ((1-self.alpha) * old_q_value) + (self.alpha * (reward + (self.gamma * max(self.q_table[position_bin, vel_bin, angle_bin, angle_vel_bin,:]))))\n",
    "\n",
    "        self.q_table[position_bin, vel_bin, angle_bin, angle_vel_bin, action] = new_q_value"
   ]
  },
  {
   "cell_type": "code",
   "execution_count": 8,
   "metadata": {
    "ExecuteTime": {
     "end_time": "2022-05-04T14:09:27.884384Z",
     "start_time": "2022-05-04T14:09:27.875008Z"
    }
   },
   "outputs": [],
   "source": [
    "# Solving the cartpole environment\n",
    "\n",
    "env_name = \"CartPole-v0\"\n",
    "env = gym.make(env_name)\n",
    "env.reset()\n",
    "nr_actions = 2"
   ]
  },
  {
   "cell_type": "code",
   "execution_count": 12,
   "metadata": {
    "ExecuteTime": {
     "end_time": "2022-05-04T14:15:32.907822Z",
     "start_time": "2022-05-04T14:14:06.541033Z"
    }
   },
   "outputs": [
    {
     "data": {
      "text/plain": [
       "array([-0.01700365,  0.02369071, -0.01090096,  0.01015985], dtype=float32)"
      ]
     },
     "execution_count": 12,
     "metadata": {},
     "output_type": "execute_result"
    },
    {
     "data": {
      "image/png": "[encoded data removed]",
      "text/plain": [
       "<Figure size 432x288 with 1 Axes>"
      ]
     },
     "metadata": {
      "needs_background": "light"
     },
     "output_type": "display_data"
    }
   ],
   "source": [
    "nr_of_episodes = 5000\n",
    "alpha = 0.2\n",
    "gamma = 0.3\n",
    "decay = 1 # no decay = 1\n",
    "epsilon = 0.15\n",
    "debug = False\n",
    "render_rate = 2000\n",
    "\n",
    "pos_bins = 2\n",
    "vel_bins = 20\n",
    "angle_bins = 40\n",
    "angvel_bins = 10\n",
    "\n",
    "render_rate = 20\n",
    "\n",
    "q_agent = PoleQAgent(pos_bins, vel_bins, angle_bins, angvel_bins, nr_actions, alpha, gamma, epsilon, decay)\n",
    "episode_awards = list()\n",
    "\n",
    "for n in range(nr_of_episodes):\n",
    "    episode_award = 0\n",
    "    state = env.reset()\n",
    "    new_state = state\n",
    "    for t in range(200):\n",
    "        action = q_agent.compute_action(state)\n",
    "        new_state, reward, done, _ =  env.step(action)\n",
    "        episode_award += reward\n",
    "        if t % render_rate == 0:\n",
    "            render_board(env, n, t)\n",
    "        q_agent.update_qtable(state, new_state, reward)\n",
    "        state = new_state\n",
    "        \n",
    "        if done == True:\n",
    "            break\n",
    "\n",
    "    episode_awards.append(episode_award)\n",
    "\n",
    "plot_mov_avg(episode_awards, 30)\n",
    "env.reset()"
   ]
  },
  {
   "cell_type": "markdown",
   "metadata": {},
   "source": [
    "### Cartpole SARSA"
   ]
  },
  {
   "cell_type": "code",
   "execution_count": 18,
   "metadata": {
    "ExecuteTime": {
     "end_time": "2022-05-04T14:18:26.266165Z",
     "start_time": "2022-05-04T14:18:26.247399Z"
    }
   },
   "outputs": [],
   "source": [
    "from random import sample\n",
    "import random\n",
    "\n",
    "class PoleSarsaAgent:\n",
    "    def __init__(self, nr_pos_bins, nr_velocity_bins, nr_angle_bins, nr_angle_vel_bins, nr_actions, alpha, gamma, epsilon, decay):\n",
    "        self.alpha = alpha\n",
    "        self.gamma = gamma\n",
    "        self.epsilon = epsilon\n",
    "        self.decay = decay\n",
    "        self.nr_pos_bins = nr_pos_bins\n",
    "        self.nr_velocity_bins = nr_velocity_bins\n",
    "        self.nr_angle_bins = nr_angle_bins\n",
    "        self.nr_angle_vel_bins = nr_angle_vel_bins\n",
    "        self.nr_actions = nr_actions\n",
    "        self.state = 0\n",
    "        self.possible_actions = [0, 1]\n",
    "        self.q_table = np.zeros((nr_pos_bins, nr_velocity_bins, nr_angle_bins, nr_angle_vel_bins, nr_actions))\n",
    "        self.action = 0\n",
    "        \n",
    "    def compute_action(self, state):\n",
    "        #state is 1x4 array: position, velocity, angle, angle_velocity\n",
    "        self.state = state\n",
    "        self.epsilon = self.epsilon * self.decay\n",
    "        self.r = np.random.uniform()\n",
    "        self.previous_action = self.action\n",
    "        \n",
    "        position_bin = np.digitize(state, np.linspace(-2.4, 2.4, self.nr_pos_bins))[0]\n",
    "        vel_bin = np.digitize(state, np.linspace(-3, 3, self.nr_velocity_bins))[1]\n",
    "        angle_bin = np.digitize(state, np.linspace(-.21, .21, self.nr_angle_bins))[2]\n",
    "        angle_vel_bin = np.digitize(state, np.linspace(-4, 4, self.nr_angle_vel_bins))[3]\n",
    "        \n",
    "        \n",
    "        if self.r <= self.epsilon:\n",
    "            self.action = random.choice(self.possible_actions)\n",
    "        else:\n",
    "            self.action = np.argmax(self.q_table[position_bin, vel_bin, angle_bin, angle_vel_bin,:])\n",
    "\n",
    "        return self.action\n",
    "    \n",
    "    def update_qtable(self, state, new_state, reward):\n",
    "        self.reward = reward\n",
    "        self.state = state\n",
    "        self.new_state = new_state\n",
    "\n",
    "        position_bin = np.digitize(state, np.linspace(-2.4, 2.4, self.nr_pos_bins))[0]\n",
    "        vel_bin = np.digitize(state, np.linspace(-3, 3, self.nr_velocity_bins))[1]\n",
    "        angle_bin = np.digitize(state, np.linspace(-.21, .21, self.nr_angle_bins))[2]\n",
    "        angle_vel_bin = np.digitize(state, np.linspace(-4, 4, self.nr_angle_vel_bins))[3]\n",
    "\n",
    "        # Bellman equation\n",
    "        predict_value = self.q_table[position_bin, vel_bin, angle_bin, angle_vel_bin, action]\n",
    "        target_value = reward + (self.gamma * self.q_table[position_bin, vel_bin, angle_bin, angle_vel_bin,self.previous_action])\n",
    "        self.q_table[position_bin, vel_bin, angle_bin, angle_vel_bin, action] = self.q_table[position_bin, vel_bin, angle_bin, angle_vel_bin, action] + alpha * (target_value - predict_value)\n"
   ]
  },
  {
   "cell_type": "code",
   "execution_count": 19,
   "metadata": {
    "ExecuteTime": {
     "end_time": "2022-05-04T14:18:46.751772Z",
     "start_time": "2022-05-04T14:18:26.974137Z"
    }
   },
   "outputs": [
    {
     "data": {
      "text/plain": [
       "array([ 0.02444352, -0.04521655, -0.00868474,  0.00803403], dtype=float32)"
      ]
     },
     "execution_count": 19,
     "metadata": {},
     "output_type": "execute_result"
    },
    {
     "data": {
      "image/png": "[encoded data removed]",
      "text/plain": [
       "<Figure size 432x288 with 1 Axes>"
      ]
     },
     "metadata": {
      "needs_background": "light"
     },
     "output_type": "display_data"
    }
   ],
   "source": [
    "nr_of_episodes = 1000\n",
    "alpha = 0.2\n",
    "gamma = 0.3\n",
    "decay = 1 # no decay = 1\n",
    "epsilon = 0.15\n",
    "debug = False\n",
    "render_rate = 2000\n",
    "\n",
    "pos_bins = 2\n",
    "vel_bins = 20\n",
    "angle_bins = 40\n",
    "angvel_bins = 10\n",
    "\n",
    "render_rate = 20\n",
    "\n",
    "q_agent = PoleSarsaAgent(pos_bins, vel_bins, angle_bins, angvel_bins, nr_actions, alpha, gamma, epsilon, decay)\n",
    "episode_awards = list()\n",
    "\n",
    "for n in range(nr_of_episodes):\n",
    "    episode_award = 0\n",
    "    state = env.reset()\n",
    "    new_state = state\n",
    "    for t in range(200):\n",
    "        action = q_agent.compute_action(state)\n",
    "        new_state, reward, done, _ =  env.step(action)\n",
    "        episode_award += reward\n",
    "        if t % render_rate == 0:\n",
    "            render_board(env, n, t)\n",
    "        q_agent.update_qtable(state, new_state, reward)\n",
    "        state = new_state\n",
    "        \n",
    "        if done == True:\n",
    "            break\n",
    "\n",
    "    episode_awards.append(episode_award)\n",
    "\n",
    "plot_mov_avg(episode_awards, 30)\n",
    "env.reset()"
   ]
  },
  {
   "cell_type": "code",
   "execution_count": null,
   "metadata": {},
   "outputs": [],
   "source": []
  }
 ],
 "metadata": {
  "kernelspec": {
   "display_name": "Python 3 (ipykernel)",
   "language": "python",
   "name": "python3"
  },
  "language_info": {
   "codemirror_mode": {
    "name": "ipython",
    "version": 3
   },
   "file_extension": ".py",
   "mimetype": "text/x-python",
   "name": "python",
   "nbconvert_exporter": "python",
   "pygments_lexer": "ipython3",
   "version": "3.9.7"
  },
  "toc": {
   "base_numbering": 1,
   "nav_menu": {},
   "number_sections": true,
   "sideBar": true,
   "skip_h1_title": false,
   "title_cell": "Table of Contents",
   "title_sidebar": "Contents",
   "toc_cell": false,
   "toc_position": {},
   "toc_section_display": true,
   "toc_window_display": false
  },
  "varInspector": {
   "cols": {
    "lenName": 16,
    "lenType": 16,
    "lenVar": 40
   },
   "kernels_config": {
    "python": {
     "delete_cmd_postfix": "",
     "delete_cmd_prefix": "del ",
     "library": "var_list.py",
     "varRefreshCmd": "print(var_dic_list())"
    },
    "r": {
     "delete_cmd_postfix": ") ",
     "delete_cmd_prefix": "rm(",
     "library": "var_list.r",
     "varRefreshCmd": "cat(var_dic_list()) "
    }
   },
   "types_to_exclude": [
    "module",
    "function",
    "builtin_function_or_method",
    "instance",
    "_Feature"
   ],
   "window_display": false
  }
 },
 "nbformat": 4,
 "nbformat_minor": 4
}
