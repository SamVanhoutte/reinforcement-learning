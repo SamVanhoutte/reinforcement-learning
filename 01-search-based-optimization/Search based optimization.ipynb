{
 "cells": [
  {
   "cell_type": "markdown",
   "id": "c98af647",
   "metadata": {},
   "source": [
    "# Search based optimization\n",
    "\n",
    "## Solving CartPole-v0 OpenAI\n",
    "\n",
    "In this assignment you will use search based optimization algorithms in order to solve the OpenAI gym cartpole-V0 environment.\n",
    "A pole is attached by an un-actuated joint to a cart, which moves along a frictionless track. The system is controlled by applying a force of +1 or -1 to the cart. The pendulum starts upright, and the goal is to prevent it from falling over. A reward of +1 is provided for every timestep that the\n",
    "pole remains upright. The episode ends when the pole is more than 15 degrees from vertical, or the cart moves more than 2.4 units from the center."
   ]
  },
  {
   "cell_type": "code",
   "execution_count": 1,
   "id": "a44e7a9e",
   "metadata": {
    "ExecuteTime": {
     "end_time": "2022-03-13T08:40:46.469317Z",
     "start_time": "2022-03-13T08:40:46.466575Z"
    }
   },
   "outputs": [],
   "source": [
    "import warnings\n",
    "warnings.filterwarnings(\"ignore\")"
   ]
  },
  {
   "cell_type": "code",
   "execution_count": 2,
   "id": "10d5bb8b",
   "metadata": {
    "ExecuteTime": {
     "end_time": "2022-03-13T08:40:47.441594Z",
     "start_time": "2022-03-13T08:40:46.472151Z"
    }
   },
   "outputs": [
    {
     "name": "stdout",
     "output_type": "stream",
     "text": [
      "Dependencies loaded\n"
     ]
    }
   ],
   "source": [
    "import gym\n",
    "import numpy as np\n",
    "import pandas as pd\n",
    "import seaborn as sns\n",
    "print('Dependencies loaded')"
   ]
  },
  {
   "cell_type": "code",
   "execution_count": 3,
   "id": "2d06c8b3",
   "metadata": {
    "ExecuteTime": {
     "end_time": "2022-03-13T08:40:47.443894Z",
     "start_time": "2022-03-13T08:40:47.442436Z"
    }
   },
   "outputs": [],
   "source": [
    "logTraces = True\n",
    "def trace(text:str):\n",
    "    if logTraces:\n",
    "        print(text)"
   ]
  },
  {
   "cell_type": "markdown",
   "id": "a2f641fb",
   "metadata": {},
   "source": [
    "## Random action based control\n",
    "\n",
    "Run the cartpole for 1000 episodes. Control the cartpole by choosing random actions.\n",
    "\n",
    "- For each episode register the number of successful timesteps.\n",
    "- Plot a histogram of the number of successful timesteps. You can use the Seaborn distplot function for visualizing this histogram.\n",
    "    > ![Results](./images/01-random-results.png)\n",
    "- What is the average number of successful timesteps you achieve by taking random actions?\n",
    "    > It varies between 20 and 30 typically"
   ]
  },
  {
   "cell_type": "code",
   "execution_count": 4,
   "id": "6a6c51aa",
   "metadata": {
    "ExecuteTime": {
     "end_time": "2022-03-13T08:40:47.755622Z",
     "start_time": "2022-03-13T08:40:47.445048Z"
    }
   },
   "outputs": [
    {
     "name": "stdout",
     "output_type": "stream",
     "text": [
      "Average number of steps during experiment 22.922\n"
     ]
    },
    {
     "data": {
      "image/png": "[encoded data removed]",
      "text/plain": [
       "<Figure size 432x288 with 1 Axes>"
      ]
     },
     "metadata": {
      "needs_background": "light"
     },
     "output_type": "display_data"
    }
   ],
   "source": [
    "env = gym.make('CartPole-v1')\n",
    "results = list()\n",
    "\n",
    "for i_episode in range(1000):\n",
    "    observation = env.reset()\n",
    "    for t in range(100):\n",
    "        #env.render()\n",
    "        #print(observation)\n",
    "        action = env.action_space.sample()\n",
    "        observation, reward, done, info = env.step(action)\n",
    "        if done:\n",
    "            results.append(t+1)\n",
    "            #print(\"Episode finished after {} timesteps\".format(t+1))\n",
    "            break\n",
    "\n",
    "env.close()\n",
    "sns.distplot(results)\n",
    "print(\"Average number of steps during experiment {}\".format(sum(results) / len(results)))"
   ]
  },
  {
   "cell_type": "markdown",
   "id": "6d18cd3e",
   "metadata": {},
   "source": [
    "\n",
    "## Angle based action control\n",
    "\n",
    "Use the information about the angle of the pole to decide on the best action to take. If the pole is falling to the right, push the cart to the right. If the pole is falling to the left, push the cart to the left.\n",
    "Again, run the cartpole for 1000 episodes.\n",
    "- For each episode register the number of successful timesteps.\n",
    "- Plot a histogram of the number of successful timesteps. You can use the Seaborn distplot function for visualizing this histogram.\n",
    "    > ![Results](./images/02-angle-based-action-results.png)\n",
    "- What is the average number of successful timesteps you achieved over these 1000 episodes?\n",
    "    > It varies around 40"
   ]
  },
  {
   "cell_type": "code",
   "execution_count": 5,
   "id": "2e0befa5",
   "metadata": {
    "ExecuteTime": {
     "end_time": "2022-03-13T08:40:47.999779Z",
     "start_time": "2022-03-13T08:40:47.756482Z"
    }
   },
   "outputs": [
    {
     "name": "stdout",
     "output_type": "stream",
     "text": [
      "Average number of steps during experiment 42.243\n"
     ]
    },
    {
     "data": {
      "image/png": "[encoded data removed]",
      "text/plain": [
       "<Figure size 432x288 with 1 Axes>"
      ]
     },
     "metadata": {
      "needs_background": "light"
     },
     "output_type": "display_data"
    }
   ],
   "source": [
    "env = gym.make('CartPole-v1')\n",
    "results = list()\n",
    "\n",
    "for i_episode in range(1000):\n",
    "    observation = env.reset()\n",
    "    for t in range(100):\n",
    "        angle = observation[2]\n",
    "        if angle < 0:\n",
    "            observation, reward, done, info = env.step(0)\n",
    "        else:\n",
    "            observation, reward, done, info = env.step(1)\n",
    "        if done:\n",
    "            results.append(t+1)\n",
    "            break\n",
    "\n",
    "env.close()\n",
    "sns.distplot(results)\n",
    "print(\"Average number of steps during experiment {}\".format(sum(results) / len(results)))"
   ]
  },
  {
   "cell_type": "markdown",
   "id": "955b023e",
   "metadata": {},
   "source": [
    "## Random search based control\n",
    "\n",
    "First define a vector of weights. Each of the weights corresponds to a one cartpole observation variable. The action will be based on the outcome of a linear combination of weights and observations.\n",
    "\n",
    "Choose the action based on the following rule:\n",
    "\n",
    "- Run 1000 iteration. For each iteration set the weights to a random value (in a realistic range) and evaluate these weights by running 20 episodes. The achieved reward for one iteration (and thus a weight vector) is the average reward over the 20 episodes. Store the history of iterations (average reward and the weight vector).\n",
    "    > See first sub section.  Several runs achieve 200 (or 500, v1) average reward.\n",
    "- Which weight vector yields the highest average reward?\n",
    "    > Several ones get the highest reward.  You can easily see them in the sorted dataframe with all weights and their corresponding rewards\n",
    "- Now test these best weights over 1000 episodes. What is the average reward you have achieved?\n",
    "    > Again 200 maxed (or 500 with v1)\n",
    "- Can you read from the weights which observation variables are important and which ones are not important in deciding which action to take?\n",
    "    > It seems clear that angular velocity and angle have the biggest impact.  Position value seems to be less important.\n",
    "- Make a 3D graph (scatterplot) showing which weight vectors achieve an average reward larger than 100 and which ones do not. To plot this graph you will put the 3 most important weights on the x,y,z axis. A red color indicates an average reward higher or equal than 100, black indicates an average reward lower than 100."
   ]
  },
  {
   "cell_type": "code",
   "execution_count": 6,
   "id": "e73eb894",
   "metadata": {
    "ExecuteTime": {
     "end_time": "2022-03-13T08:40:48.002652Z",
     "start_time": "2022-03-13T08:40:48.000741Z"
    }
   },
   "outputs": [],
   "source": [
    "def computeActionByWeight(state, weights):\n",
    "    p = np.matmul(weights, state)\n",
    "    if p < 0:\n",
    "        return 0\n",
    "    else:\n",
    "        return 1"
   ]
  },
  {
   "cell_type": "code",
   "execution_count": 7,
   "id": "d2314bd0",
   "metadata": {
    "ExecuteTime": {
     "end_time": "2022-03-13T08:40:48.006193Z",
     "start_time": "2022-03-13T08:40:48.003395Z"
    }
   },
   "outputs": [],
   "source": [
    "def runEpisode(environment, weights, episode: int, iteration: int):\n",
    "    observation = env.reset()\n",
    "    trace(f'Running episode {episode} of iteration {iteration}')\n",
    "    episodeReward = 0 \n",
    "    done = False\n",
    "    while not done:            \n",
    "        action = computeActionByWeight(observation, weights)\n",
    "        observation, reward, done, info = env.step(action)\n",
    "        episodeReward = episodeReward + reward\n",
    "    trace(f'Episode {episode} done with reward {episodeReward}')\n",
    "    return episodeReward"
   ]
  },
  {
   "cell_type": "markdown",
   "id": "be45b77f",
   "metadata": {},
   "source": [
    "### First run 1000 iterations to get best weights\n",
    "\n",
    "Run 1000 iteration. For each iteration set the weights to a random value (in a realistic range) and evaluate these weights by running 20 episodes. The achieved reward for one iteration (and thus a weight vector) is the average reward over the 20 episodes. Store the history of iterations (average reward and the weight vector)."
   ]
  },
  {
   "cell_type": "code",
   "execution_count": 8,
   "id": "1de62a66",
   "metadata": {
    "ExecuteTime": {
     "end_time": "2022-03-13T08:40:52.933015Z",
     "start_time": "2022-03-13T08:40:48.007041Z"
    }
   },
   "outputs": [
    {
     "data": {
      "text/html": [
       "<div>\n",
       "<style scoped>\n",
       "    .dataframe tbody tr th:only-of-type {\n",
       "        vertical-align: middle;\n",
       "    }\n",
       "\n",
       "    .dataframe tbody tr th {\n",
       "        vertical-align: top;\n",
       "    }\n",
       "\n",
       "    .dataframe thead th {\n",
       "        text-align: right;\n",
       "    }\n",
       "</style>\n",
       "<table border=\"1\" class=\"dataframe\">\n",
       "  <thead>\n",
       "    <tr style=\"text-align: right;\">\n",
       "      <th></th>\n",
       "      <th>iteration</th>\n",
       "      <th>avgreward</th>\n",
       "      <th>w1_pos</th>\n",
       "      <th>w2_vlc</th>\n",
       "      <th>w3_angle</th>\n",
       "      <th>w4_angl_vlc</th>\n",
       "    </tr>\n",
       "  </thead>\n",
       "  <tbody>\n",
       "    <tr>\n",
       "      <th>506</th>\n",
       "      <td>506</td>\n",
       "      <td>500.00</td>\n",
       "      <td>0.009422</td>\n",
       "      <td>0.600984</td>\n",
       "      <td>0.615450</td>\n",
       "      <td>0.946737</td>\n",
       "    </tr>\n",
       "    <tr>\n",
       "      <th>389</th>\n",
       "      <td>389</td>\n",
       "      <td>500.00</td>\n",
       "      <td>-0.116857</td>\n",
       "      <td>0.472401</td>\n",
       "      <td>0.088611</td>\n",
       "      <td>0.954292</td>\n",
       "    </tr>\n",
       "    <tr>\n",
       "      <th>164</th>\n",
       "      <td>164</td>\n",
       "      <td>500.00</td>\n",
       "      <td>0.475170</td>\n",
       "      <td>0.342575</td>\n",
       "      <td>0.974667</td>\n",
       "      <td>0.552728</td>\n",
       "    </tr>\n",
       "    <tr>\n",
       "      <th>969</th>\n",
       "      <td>969</td>\n",
       "      <td>500.00</td>\n",
       "      <td>0.338743</td>\n",
       "      <td>0.706397</td>\n",
       "      <td>0.776105</td>\n",
       "      <td>0.700382</td>\n",
       "    </tr>\n",
       "    <tr>\n",
       "      <th>130</th>\n",
       "      <td>130</td>\n",
       "      <td>500.00</td>\n",
       "      <td>0.039643</td>\n",
       "      <td>0.211533</td>\n",
       "      <td>0.946453</td>\n",
       "      <td>0.998167</td>\n",
       "    </tr>\n",
       "    <tr>\n",
       "      <th>...</th>\n",
       "      <td>...</td>\n",
       "      <td>...</td>\n",
       "      <td>...</td>\n",
       "      <td>...</td>\n",
       "      <td>...</td>\n",
       "      <td>...</td>\n",
       "    </tr>\n",
       "    <tr>\n",
       "      <th>246</th>\n",
       "      <td>246</td>\n",
       "      <td>8.65</td>\n",
       "      <td>0.195830</td>\n",
       "      <td>0.060841</td>\n",
       "      <td>-0.833590</td>\n",
       "      <td>-0.396892</td>\n",
       "    </tr>\n",
       "    <tr>\n",
       "      <th>15</th>\n",
       "      <td>15</td>\n",
       "      <td>8.65</td>\n",
       "      <td>0.471758</td>\n",
       "      <td>-0.781891</td>\n",
       "      <td>-0.274361</td>\n",
       "      <td>-0.771069</td>\n",
       "    </tr>\n",
       "    <tr>\n",
       "      <th>357</th>\n",
       "      <td>357</td>\n",
       "      <td>8.65</td>\n",
       "      <td>-0.149795</td>\n",
       "      <td>0.603042</td>\n",
       "      <td>-0.899584</td>\n",
       "      <td>0.175700</td>\n",
       "    </tr>\n",
       "    <tr>\n",
       "      <th>263</th>\n",
       "      <td>263</td>\n",
       "      <td>8.60</td>\n",
       "      <td>-0.254396</td>\n",
       "      <td>-0.005203</td>\n",
       "      <td>-0.927169</td>\n",
       "      <td>-0.976877</td>\n",
       "    </tr>\n",
       "    <tr>\n",
       "      <th>539</th>\n",
       "      <td>539</td>\n",
       "      <td>8.45</td>\n",
       "      <td>0.307976</td>\n",
       "      <td>0.076977</td>\n",
       "      <td>-0.905317</td>\n",
       "      <td>-0.666933</td>\n",
       "    </tr>\n",
       "  </tbody>\n",
       "</table>\n",
       "<p>1000 rows × 6 columns</p>\n",
       "</div>"
      ],
      "text/plain": [
       "     iteration  avgreward    w1_pos    w2_vlc  w3_angle  w4_angl_vlc\n",
       "506        506     500.00  0.009422  0.600984  0.615450     0.946737\n",
       "389        389     500.00 -0.116857  0.472401  0.088611     0.954292\n",
       "164        164     500.00  0.475170  0.342575  0.974667     0.552728\n",
       "969        969     500.00  0.338743  0.706397  0.776105     0.700382\n",
       "130        130     500.00  0.039643  0.211533  0.946453     0.998167\n",
       "..         ...        ...       ...       ...       ...          ...\n",
       "246        246       8.65  0.195830  0.060841 -0.833590    -0.396892\n",
       "15          15       8.65  0.471758 -0.781891 -0.274361    -0.771069\n",
       "357        357       8.65 -0.149795  0.603042 -0.899584     0.175700\n",
       "263        263       8.60 -0.254396 -0.005203 -0.927169    -0.976877\n",
       "539        539       8.45  0.307976  0.076977 -0.905317    -0.666933\n",
       "\n",
       "[1000 rows x 6 columns]"
      ]
     },
     "metadata": {},
     "output_type": "display_data"
    }
   ],
   "source": [
    "env = gym.make('CartPole-v1')\n",
    "results = list()\n",
    "logTraces = False\n",
    "best_reward = 0\n",
    "episodes = 20\n",
    "iterations = 1000\n",
    "for iteration in range(iterations):\n",
    "    env.reset()\n",
    "    weights = 2 * np.random.rand(4) - 1.0\n",
    "    iterationReward = 0\n",
    "    for episode in range(episodes):\n",
    "        episodeReward = runEpisode(env, weights, episode, iteration)\n",
    "        iterationReward = iterationReward + episodeReward\n",
    "\n",
    "    iterationReward = iterationReward / episodes\n",
    "    results.append({'iteration':iteration, 'avgreward': iterationReward, \n",
    "                   'w1_pos': weights[0],'w2_vlc': weights[1],'w3_angle': weights[2],'w4_angl_vlc': weights[3]})\n",
    "\n",
    "    if iterationReward > best_reward:\n",
    "        best_reward = iterationReward\n",
    "        best_weights = weights\n",
    "\n",
    "env.close()\n",
    "output = pd.DataFrame(results)\n",
    "output = output.sort_values(by='avgreward', ascending=False)\n",
    "display(output)"
   ]
  },
  {
   "cell_type": "markdown",
   "id": "2b2fdc5a",
   "metadata": {},
   "source": [
    "### Now we take the best weights from the previous run and will check the reward for 1000 episodes"
   ]
  },
  {
   "cell_type": "code",
   "execution_count": 9,
   "id": "fc57dda4",
   "metadata": {
    "ExecuteTime": {
     "end_time": "2022-03-13T08:40:54.898337Z",
     "start_time": "2022-03-13T08:40:52.934932Z"
    }
   },
   "outputs": [
    {
     "name": "stdout",
     "output_type": "stream",
     "text": [
      "The average reward for 1000 episodes of the best weights is 499.558\n"
     ]
    }
   ],
   "source": [
    "env = gym.make('CartPole-v1')\n",
    "env.reset()\n",
    "logTraces = False\n",
    "episodes = 1000\n",
    "iterationReward = 0\n",
    "for episode in range(episodes):\n",
    "    episodeReward = runEpisode(env, best_weights, episode, 1)\n",
    "    iterationReward = iterationReward + episodeReward\n",
    "\n",
    "iterationReward = iterationReward / episodes\n",
    "env.close()\n",
    "print(f'The average reward for {episodes} episodes of the best weights is {iterationReward}')"
   ]
  },
  {
   "cell_type": "markdown",
   "id": "67a2cd66",
   "metadata": {},
   "source": [
    "### Scatterplot"
   ]
  },
  {
   "cell_type": "code",
   "execution_count": 10,
   "id": "3fad707d",
   "metadata": {
    "ExecuteTime": {
     "end_time": "2022-03-13T08:40:54.901503Z",
     "start_time": "2022-03-13T08:40:54.899240Z"
    }
   },
   "outputs": [],
   "source": [
    "def define_scatter_color(reward):\n",
    "    if reward > 100: \n",
    "        return 'red'\n",
    "    else:\n",
    "        return 'black'"
   ]
  },
  {
   "cell_type": "code",
   "execution_count": 11,
   "id": "2f21cbe7",
   "metadata": {
    "ExecuteTime": {
     "end_time": "2022-03-13T08:40:55.078506Z",
     "start_time": "2022-03-13T08:40:54.902604Z"
    }
   },
   "outputs": [
    {
     "data": {
      "image/png": "[encoded data removed]",
      "text/plain": [
       "<Figure size 432x432 with 1 Axes>"
      ]
     },
     "metadata": {
      "needs_background": "light"
     },
     "output_type": "display_data"
    }
   ],
   "source": [
    "import re, seaborn as sns\n",
    "from matplotlib import pyplot as plt\n",
    "from mpl_toolkits.mplot3d import Axes3D\n",
    "from matplotlib.colors import ListedColormap\n",
    "\n",
    "\n",
    "# axes instance\n",
    "fig = plt.figure(figsize=(6,6))\n",
    "ax = Axes3D(fig, auto_add_to_figure=False)\n",
    "fig.add_axes(ax)\n",
    "\n",
    "output['color'] = output.apply (lambda row: define_scatter_color(row['avgreward']), axis=1)\n",
    "x = output[['w3_angle']].to_numpy()\n",
    "y = output[['w4_angl_vlc']].to_numpy()\n",
    "z = output[['w2_vlc']].to_numpy()\n",
    "c = output[['color']].to_numpy().reshape(1000)\n",
    "# plot\n",
    "sc = ax.scatter(x, y, z, s=40, c=c, marker='o', alpha=1)\n",
    "ax.set_xlabel('Angle')\n",
    "ax.set_ylabel('Angular Velocity')\n",
    "ax.set_zlabel('Velocity')\n",
    "\n",
    "# legend\n",
    "plt.legend(*sc.legend_elements(), bbox_to_anchor=(1.05, 1), loc=2)\n",
    "\n",
    "# save\n",
    "plt.savefig(\"scatter_hue\", bbox_inches='tight')"
   ]
  },
  {
   "cell_type": "markdown",
   "id": "a5506e58",
   "metadata": {},
   "source": [
    "## Hill climbing\n",
    "\n",
    "Implement the hill climbing algorithm to find a good weight vector. You start with a random weight vector. Each iteration you slightly change the weight vector by adding some noise (can be taken from a normal distribution with mean 0 and standard deviation sigma. If the new weight\n",
    "vector results in a higher reward (for example over 20 episodes) then you can keep the new weight vector. Otherwise you stick to the old one.\n",
    "- Run 1000 iteration. For each iteration set the weights to a random value (in a realistic range) and evaluate these weights by running 20 episodes. The achieved reward for one iteration (and thus a weight vector) is the average reward over the 20 episodes. Store the history of iterations (average reward and the weight vector).\n",
    "- Which weight vector yields the highest average reward?\n",
    "- Now test these best weights over 1000 episodes. What is the average reward you have achieved? Plot the histogram of the rewards.\n",
    "\n",
    "> Answers to the above are quite similar to the previous example, because weights and conclusions are quite similar.  Again the max reward is easily achieved, so not so much differences between different approaches on the results\n",
    "\n"
   ]
  },
  {
   "cell_type": "markdown",
   "id": "f0815ce2",
   "metadata": {},
   "source": [
    "### Using an agent class, for 1000 iterations to get best weights\n",
    "\n",
    "This is inspired by https://github.com/the-computer-scientist/OpenAIGym/blob/master/HillClimbingInOpenAIGym.ipynb"
   ]
  },
  {
   "cell_type": "code",
   "execution_count": 51,
   "id": "f022ad4a",
   "metadata": {
    "ExecuteTime": {
     "end_time": "2022-03-13T12:05:46.398920Z",
     "start_time": "2022-03-13T12:05:46.387149Z"
    }
   },
   "outputs": [],
   "source": [
    "class HillClimbingAgent():\n",
    "    def __init__(self, env):\n",
    "        self.shape = env.observation_space.shape\n",
    "        self.action_count = env.action_space.n\n",
    "        self.initialize()\n",
    "        \n",
    "    def initialize(self):\n",
    "        # Random initialization of weights\n",
    "        self.weights = 1e-4*np.random.rand(*self.shape, self.action_count)\n",
    "        self.best_reward = -np.Inf\n",
    "        self.best_weights = np.copy(self.weights)\n",
    "        self.noise_scale = 1e-2\n",
    "        \n",
    "    def initialize_weights(self, weights):\n",
    "        # Random initialization of weights\n",
    "        self.weights = weights\n",
    "        self.best_weights = np.copy(self.weights)\n",
    "        \n",
    "    def get_action(self, state):\n",
    "        # Calculate action, based on the state & weights\n",
    "        p = np.dot(state, self.weights)\n",
    "        action = np.argmax(p)\n",
    "        return action\n",
    "    \n",
    "    def update_model(self, reward):\n",
    "        if reward >= self.best_reward:\n",
    "            # Better reward to save\n",
    "            self.best_reward = reward\n",
    "            self.best_weights = np.copy(self.weights)\n",
    "            # Adapt noise_scale to smaller value, \n",
    "            # keeping it high enough to move\n",
    "            self.noise_scale = max(self.noise_scale/2, 1e-3)\n",
    "        else:\n",
    "            # Adapt noise_scale to larger value, \n",
    "            # keeping it small enough to not move to far\n",
    "            self.noise_scale = min(self.noise_scale*2, 2)\n",
    "        \n",
    "        # Randomly adjust weights\n",
    "        self.weights = self.best_weights + self.noise_scale * np.random.rand(*self.shape, self.action_count)\n",
    "        \n"
   ]
  },
  {
   "cell_type": "code",
   "execution_count": 54,
   "id": "deda50c6",
   "metadata": {
    "ExecuteTime": {
     "end_time": "2022-03-13T12:09:53.764389Z",
     "start_time": "2022-03-13T12:09:40.618533Z"
    }
   },
   "outputs": [
    {
     "data": {
      "text/html": [
       "<div>\n",
       "<style scoped>\n",
       "    .dataframe tbody tr th:only-of-type {\n",
       "        vertical-align: middle;\n",
       "    }\n",
       "\n",
       "    .dataframe tbody tr th {\n",
       "        vertical-align: top;\n",
       "    }\n",
       "\n",
       "    .dataframe thead th {\n",
       "        text-align: right;\n",
       "    }\n",
       "</style>\n",
       "<table border=\"1\" class=\"dataframe\">\n",
       "  <thead>\n",
       "    <tr style=\"text-align: right;\">\n",
       "      <th></th>\n",
       "      <th>iteration</th>\n",
       "      <th>avg_reward</th>\n",
       "      <th>w1_pos</th>\n",
       "      <th>w2_vlc</th>\n",
       "      <th>w3_angle</th>\n",
       "      <th>w4_angl_vlc</th>\n",
       "    </tr>\n",
       "  </thead>\n",
       "  <tbody>\n",
       "    <tr>\n",
       "      <th>418</th>\n",
       "      <td>418</td>\n",
       "      <td>459.95</td>\n",
       "      <td>[0.01843178406612308, 0.019189248650338928]</td>\n",
       "      <td>[0.009578408504886995, 0.014213057684792817]</td>\n",
       "      <td>[0.011141761496704568, 0.018721074076653875]</td>\n",
       "      <td>[0.012970742252010751, 0.01745425522487696]</td>\n",
       "    </tr>\n",
       "    <tr>\n",
       "      <th>993</th>\n",
       "      <td>993</td>\n",
       "      <td>455.10</td>\n",
       "      <td>[0.013406872828420947, 0.013969076090323943]</td>\n",
       "      <td>[0.0126433978516795, 0.013555954385047765]</td>\n",
       "      <td>[0.010842182964610004, 0.018028733293591226]</td>\n",
       "      <td>[0.011494716283725859, 0.014765608403405307]</td>\n",
       "    </tr>\n",
       "    <tr>\n",
       "      <th>21</th>\n",
       "      <td>21</td>\n",
       "      <td>454.55</td>\n",
       "      <td>[0.013643680878464903, 0.014403121563084473]</td>\n",
       "      <td>[0.016509028257737143, 0.02015391692061247]</td>\n",
       "      <td>[0.013735501159002248, 0.020643647320283395]</td>\n",
       "      <td>[0.012650069805267807, 0.017828198567235453]</td>\n",
       "    </tr>\n",
       "    <tr>\n",
       "      <th>55</th>\n",
       "      <td>55</td>\n",
       "      <td>452.45</td>\n",
       "      <td>[0.015043366320780628, 0.014595658231476141]</td>\n",
       "      <td>[0.011229573833713627, 0.012825651704568999]</td>\n",
       "      <td>[0.010371246805794477, 0.01466340967469944]</td>\n",
       "      <td>[0.010029163489538483, 0.017089273902594102]</td>\n",
       "    </tr>\n",
       "    <tr>\n",
       "      <th>664</th>\n",
       "      <td>664</td>\n",
       "      <td>452.40</td>\n",
       "      <td>[0.011673324405808363, 0.010885201878714907]</td>\n",
       "      <td>[0.01108498843176144, 0.013765538204003369]</td>\n",
       "      <td>[0.009088349951716573, 0.01610026541883936]</td>\n",
       "      <td>[0.009875844974031838, 0.01789251013375689]</td>\n",
       "    </tr>\n",
       "    <tr>\n",
       "      <th>...</th>\n",
       "      <td>...</td>\n",
       "      <td>...</td>\n",
       "      <td>...</td>\n",
       "      <td>...</td>\n",
       "      <td>...</td>\n",
       "      <td>...</td>\n",
       "    </tr>\n",
       "    <tr>\n",
       "      <th>909</th>\n",
       "      <td>909</td>\n",
       "      <td>9.25</td>\n",
       "      <td>[0.018639367145769064, 0.014912741577108243]</td>\n",
       "      <td>[0.019290899584789738, 0.029278578919250255]</td>\n",
       "      <td>[0.020884707023445876, 0.026233367261576747]</td>\n",
       "      <td>[0.02704033167071399, 0.024796542501871167]</td>\n",
       "    </tr>\n",
       "    <tr>\n",
       "      <th>568</th>\n",
       "      <td>568</td>\n",
       "      <td>9.15</td>\n",
       "      <td>[0.0159649498477157, 0.01772175658467722]</td>\n",
       "      <td>[0.02559327595780615, 0.018107416147389248]</td>\n",
       "      <td>[0.02944147162647693, 0.019026436274107193]</td>\n",
       "      <td>[0.023760145685141926, 0.021662482308715952]</td>\n",
       "    </tr>\n",
       "    <tr>\n",
       "      <th>526</th>\n",
       "      <td>526</td>\n",
       "      <td>9.15</td>\n",
       "      <td>[0.016563848494449213, 0.016755155295299896]</td>\n",
       "      <td>[0.013368640924819382, 0.017109781348334005]</td>\n",
       "      <td>[0.020671688138474274, 0.013382317456972482]</td>\n",
       "      <td>[0.01995871957922781, 0.01433570633008971]</td>\n",
       "    </tr>\n",
       "    <tr>\n",
       "      <th>424</th>\n",
       "      <td>424</td>\n",
       "      <td>9.10</td>\n",
       "      <td>[1.1312089449824363, 1.6773296848259998]</td>\n",
       "      <td>[0.7673628264592587, 0.6339724281842471]</td>\n",
       "      <td>[0.8228898753670124, 1.7986931324136108]</td>\n",
       "      <td>[2.217601697934778, 0.8080597501186931]</td>\n",
       "    </tr>\n",
       "    <tr>\n",
       "      <th>129</th>\n",
       "      <td>129</td>\n",
       "      <td>9.10</td>\n",
       "      <td>[0.11499803072294673, 0.11079991560441182]</td>\n",
       "      <td>[0.0293464095344229, 0.006464686109885116]</td>\n",
       "      <td>[0.13646664257689065, 0.10837794447986802]</td>\n",
       "      <td>[0.08898718537314826, 0.07710438267355148]</td>\n",
       "    </tr>\n",
       "  </tbody>\n",
       "</table>\n",
       "<p>1000 rows × 6 columns</p>\n",
       "</div>"
      ],
      "text/plain": [
       "     iteration  avg_reward                                        w1_pos  \\\n",
       "418        418      459.95   [0.01843178406612308, 0.019189248650338928]   \n",
       "993        993      455.10  [0.013406872828420947, 0.013969076090323943]   \n",
       "21          21      454.55  [0.013643680878464903, 0.014403121563084473]   \n",
       "55          55      452.45  [0.015043366320780628, 0.014595658231476141]   \n",
       "664        664      452.40  [0.011673324405808363, 0.010885201878714907]   \n",
       "..         ...         ...                                           ...   \n",
       "909        909        9.25  [0.018639367145769064, 0.014912741577108243]   \n",
       "568        568        9.15     [0.0159649498477157, 0.01772175658467722]   \n",
       "526        526        9.15  [0.016563848494449213, 0.016755155295299896]   \n",
       "424        424        9.10      [1.1312089449824363, 1.6773296848259998]   \n",
       "129        129        9.10    [0.11499803072294673, 0.11079991560441182]   \n",
       "\n",
       "                                           w2_vlc  \\\n",
       "418  [0.009578408504886995, 0.014213057684792817]   \n",
       "993    [0.0126433978516795, 0.013555954385047765]   \n",
       "21    [0.016509028257737143, 0.02015391692061247]   \n",
       "55   [0.011229573833713627, 0.012825651704568999]   \n",
       "664   [0.01108498843176144, 0.013765538204003369]   \n",
       "..                                            ...   \n",
       "909  [0.019290899584789738, 0.029278578919250255]   \n",
       "568   [0.02559327595780615, 0.018107416147389248]   \n",
       "526  [0.013368640924819382, 0.017109781348334005]   \n",
       "424      [0.7673628264592587, 0.6339724281842471]   \n",
       "129    [0.0293464095344229, 0.006464686109885116]   \n",
       "\n",
       "                                         w3_angle  \\\n",
       "418  [0.011141761496704568, 0.018721074076653875]   \n",
       "993  [0.010842182964610004, 0.018028733293591226]   \n",
       "21   [0.013735501159002248, 0.020643647320283395]   \n",
       "55    [0.010371246805794477, 0.01466340967469944]   \n",
       "664   [0.009088349951716573, 0.01610026541883936]   \n",
       "..                                            ...   \n",
       "909  [0.020884707023445876, 0.026233367261576747]   \n",
       "568   [0.02944147162647693, 0.019026436274107193]   \n",
       "526  [0.020671688138474274, 0.013382317456972482]   \n",
       "424      [0.8228898753670124, 1.7986931324136108]   \n",
       "129    [0.13646664257689065, 0.10837794447986802]   \n",
       "\n",
       "                                      w4_angl_vlc  \n",
       "418   [0.012970742252010751, 0.01745425522487696]  \n",
       "993  [0.011494716283725859, 0.014765608403405307]  \n",
       "21   [0.012650069805267807, 0.017828198567235453]  \n",
       "55   [0.010029163489538483, 0.017089273902594102]  \n",
       "664   [0.009875844974031838, 0.01789251013375689]  \n",
       "..                                            ...  \n",
       "909   [0.02704033167071399, 0.024796542501871167]  \n",
       "568  [0.023760145685141926, 0.021662482308715952]  \n",
       "526    [0.01995871957922781, 0.01433570633008971]  \n",
       "424       [2.217601697934778, 0.8080597501186931]  \n",
       "129    [0.08898718537314826, 0.07710438267355148]  \n",
       "\n",
       "[1000 rows x 6 columns]"
      ]
     },
     "metadata": {},
     "output_type": "display_data"
    }
   ],
   "source": [
    "num_episodes = 20\n",
    "num_iterations = 1000\n",
    "results = list()\n",
    "best_weights = None\n",
    "best_reward = 0\n",
    "for iteration in range(num_iterations):\n",
    "    iterationReward = 0\n",
    "    env.reset()\n",
    "    agent = HillClimbingAgent(env)\n",
    "    \n",
    "    for ep in range(num_episodes):\n",
    "        state = env.reset()\n",
    "        total_reward = 0\n",
    "        done = False\n",
    "        while not done:\n",
    "            action = agent.get_action(state)\n",
    "            state, reward, done, info = env.step(action)\n",
    "            total_reward += reward\n",
    "\n",
    "        agent.update_model(total_reward)\n",
    "        #print(\"Episode: {}, total_reward: {:.2f}\".format(ep, total_reward))\n",
    "        iterationReward = iterationReward + total_reward\n",
    "    \n",
    "    if iterationReward > best_reward:\n",
    "        best_weights = agent.best_weights\n",
    "    \n",
    "    iterationReward = iterationReward / episodes\n",
    "    results.append({'iteration':iteration, 'avg_reward': iterationReward, \n",
    "                   'w1_pos': agent.best_weights[0],'w2_vlc': agent.best_weights[1],'w3_angle': agent.best_weights[2],'w4_angl_vlc': agent.best_weights[3]})\n",
    "\n",
    "output = pd.DataFrame(results)\n",
    "output = output.sort_values(by='avg_reward', ascending=False)\n",
    "display(output)\n"
   ]
  },
  {
   "cell_type": "markdown",
   "id": "7db5f543",
   "metadata": {},
   "source": [
    "### Plotting the average reward histogram"
   ]
  },
  {
   "cell_type": "code",
   "execution_count": 55,
   "id": "b0d10451",
   "metadata": {
    "ExecuteTime": {
     "end_time": "2022-03-13T12:10:28.089117Z",
     "start_time": "2022-03-13T12:10:27.988429Z"
    }
   },
   "outputs": [
    {
     "data": {
      "image/png": "[encoded data removed]",
      "text/plain": [
       "<Figure size 432x288 with 1 Axes>"
      ]
     },
     "metadata": {
      "needs_background": "light"
     },
     "output_type": "display_data"
    }
   ],
   "source": [
    "_ = sns.distplot(output[['avg_reward']].to_numpy())"
   ]
  },
  {
   "cell_type": "markdown",
   "id": "1e15a738",
   "metadata": {
    "ExecuteTime": {
     "end_time": "2022-03-12T09:20:59.044253Z",
     "start_time": "2022-03-12T09:20:59.039373Z"
    }
   },
   "source": [
    "### Taking the best weights and run 1000 episodes"
   ]
  },
  {
   "cell_type": "code",
   "execution_count": 56,
   "id": "82f07a86",
   "metadata": {
    "ExecuteTime": {
     "end_time": "2022-03-13T12:10:54.459403Z",
     "start_time": "2022-03-13T12:10:53.988754Z"
    }
   },
   "outputs": [
    {
     "name": "stdout",
     "output_type": "stream",
     "text": [
      "Total reward for best weights: 111.0\n"
     ]
    }
   ],
   "source": [
    "env.reset()\n",
    "agent = HillClimbingAgent(env)\n",
    "agent.initialize_weights(best_weights)\n",
    "for ep in range(1000):\n",
    "    state = env.reset()\n",
    "    total_reward = 0\n",
    "    done = False\n",
    "    while not done:\n",
    "        action = agent.get_action(state)\n",
    "        state, reward, done, info = env.step(action)\n",
    "        total_reward += reward\n",
    "\n",
    "print(f'Total reward for best weights: {total_reward}')"
   ]
  },
  {
   "cell_type": "markdown",
   "id": "1a26c236",
   "metadata": {},
   "source": [
    "## Simulated annealing\n",
    "\n",
    "Now change the hill climbing algorithm to simulated annealing. Also here you will run 1000 iterations with 20 episodes per iteration.\n",
    "- Set a starting temperature and a cooling rate.\n",
    "- Randomly change the weights and evaluate the current reward Rt.\n",
    "- If the current reward Rt is higher than the previous reward Rt-1 keep the new weights (hill climbing). where .\n",
    "- Gradually lower the temperature.\n",
    "- Run 1000 iteration. For each iteration set the weights to a random value (in a realistic range) and evaluate these weights by running 20 episodes. The achieved reward for one iteration (and thus a weight vector) is the average reward over the 20 episodes. Store the history of iterations (average reward and the weight vector).\n",
    "- Which weight vector yields the highest average reward?\n",
    "- Now test these best weights over 1000 episodes. What is the average reward you have achieved? Plot the histogram of the rewards."
   ]
  },
  {
   "cell_type": "code",
   "execution_count": 73,
   "id": "8ba739a5",
   "metadata": {
    "ExecuteTime": {
     "end_time": "2022-03-13T15:08:20.438547Z",
     "start_time": "2022-03-13T15:08:20.424904Z"
    }
   },
   "outputs": [],
   "source": [
    "class SimmulatedAnnealingAgent():\n",
    "    def __init__(self, env, temperature=100000, cooling_rate=0.993, spread=0.001):\n",
    "        self.shape = env.observation_space.shape\n",
    "        self.action_count = env.action_space.n\n",
    "        self.temperature = temperature  # Learning rate\n",
    "        self.cooling_rate = cooling_rate  # Decay in impact of temperature\n",
    "        self.spread = spread  # Spread of randomness when selecting new values to test\n",
    "\n",
    "        self.initialize()\n",
    "        \n",
    "    def initialize(self):\n",
    "        # Random initialization of weights\n",
    "        self.weights = 1e-4*np.random.rand(*self.shape, self.action_count)\n",
    "        self.best_reward = -np.Inf\n",
    "        self.best_weights = np.copy(self.weights)\n",
    "        self.noise_scale = 1e-2\n",
    "        \n",
    "    def initialize_weights(self, weights):\n",
    "        # Random initialization of weights\n",
    "        self.weights = weights\n",
    "        self.best_weights = np.copy(self.weights)\n",
    "        \n",
    "    def get_action(self, state):\n",
    "        # Calculate action, based on the state & weights\n",
    "        p = np.dot(state, self.weights)\n",
    "        action = np.argmax(p)\n",
    "        return action\n",
    "    \n",
    "    def update_model(self, reward):\n",
    "        if reward >= self.best_reward:\n",
    "            # Better reward to save\n",
    "            self.best_reward = reward\n",
    "            self.best_weights = np.copy(self.weights)\n",
    "        else:\n",
    "            reward_difference = (reward - best_reward)\n",
    "            p = np.exp(reward_difference/self.temperature)\n",
    "            if np.random.rand() < p:\n",
    "                self.best_reward = reward\n",
    "                self.best_weights = self.weights\n",
    "        \n",
    "        # Randomly adjust weights\n",
    "        self.weights = self.best_weights + np.random.normal(loc=0,scale= self.spread) \n",
    "        self.temperature = self.cooling_rate * self.temperature"
   ]
  },
  {
   "cell_type": "code",
   "execution_count": 74,
   "id": "e74fe9bc",
   "metadata": {
    "ExecuteTime": {
     "end_time": "2022-03-13T15:08:35.984540Z",
     "start_time": "2022-03-13T15:08:29.168795Z"
    }
   },
   "outputs": [
    {
     "data": {
      "text/html": [
       "<div>\n",
       "<style scoped>\n",
       "    .dataframe tbody tr th:only-of-type {\n",
       "        vertical-align: middle;\n",
       "    }\n",
       "\n",
       "    .dataframe tbody tr th {\n",
       "        vertical-align: top;\n",
       "    }\n",
       "\n",
       "    .dataframe thead th {\n",
       "        text-align: right;\n",
       "    }\n",
       "</style>\n",
       "<table border=\"1\" class=\"dataframe\">\n",
       "  <thead>\n",
       "    <tr style=\"text-align: right;\">\n",
       "      <th></th>\n",
       "      <th>iteration</th>\n",
       "      <th>avg_reward</th>\n",
       "      <th>w1_pos</th>\n",
       "      <th>w2_vlc</th>\n",
       "      <th>w3_angle</th>\n",
       "      <th>w4_angl_vlc</th>\n",
       "    </tr>\n",
       "  </thead>\n",
       "  <tbody>\n",
       "    <tr>\n",
       "      <th>963</th>\n",
       "      <td>963</td>\n",
       "      <td>500.00</td>\n",
       "      <td>[0.00048082805941620783, 0.0004779361088813759]</td>\n",
       "      <td>[0.0004301440354435727, 0.0004480473303500093]</td>\n",
       "      <td>[0.0004388586367759749, 0.00047940308900509885]</td>\n",
       "      <td>[0.00045960007401089366, 0.00048165862977164547]</td>\n",
       "    </tr>\n",
       "    <tr>\n",
       "      <th>78</th>\n",
       "      <td>78</td>\n",
       "      <td>500.00</td>\n",
       "      <td>[-0.0017323853972160755, -0.0017277257736339298]</td>\n",
       "      <td>[-0.0017281445555149136, -0.0017066640494773503]</td>\n",
       "      <td>[-0.0017296661882747677, -0.0017081680510310122]</td>\n",
       "      <td>[-0.001767977244146673, -0.001744603378011053]</td>\n",
       "    </tr>\n",
       "    <tr>\n",
       "      <th>359</th>\n",
       "      <td>359</td>\n",
       "      <td>500.00</td>\n",
       "      <td>[-0.0005446165070379282, -0.0005367516985413328]</td>\n",
       "      <td>[-0.0005466502958073948, -0.0005440958412517213]</td>\n",
       "      <td>[-0.0005230030374690277, -0.000476980424516594]</td>\n",
       "      <td>[-0.000546245369496335, -0.0005338170342338197]</td>\n",
       "    </tr>\n",
       "    <tr>\n",
       "      <th>617</th>\n",
       "      <td>617</td>\n",
       "      <td>500.00</td>\n",
       "      <td>[0.0012996819972521296, 0.0012987238874499131]</td>\n",
       "      <td>[0.001261489000091717, 0.0012898493943839372]</td>\n",
       "      <td>[0.0012623664733844742, 0.0013338347766330618]</td>\n",
       "      <td>[0.0012800738239926856, 0.0013153402972305719]</td>\n",
       "    </tr>\n",
       "    <tr>\n",
       "      <th>16</th>\n",
       "      <td>16</td>\n",
       "      <td>500.00</td>\n",
       "      <td>[0.0021342716670168264, 0.002115835701337075]</td>\n",
       "      <td>[0.0020963512322657142, 0.002155960106052966]</td>\n",
       "      <td>[0.0020937832728005, 0.0021699818696718333]</td>\n",
       "      <td>[0.002097709463817673, 0.002160579456297324]</td>\n",
       "    </tr>\n",
       "    <tr>\n",
       "      <th>...</th>\n",
       "      <td>...</td>\n",
       "      <td>...</td>\n",
       "      <td>...</td>\n",
       "      <td>...</td>\n",
       "      <td>...</td>\n",
       "      <td>...</td>\n",
       "    </tr>\n",
       "    <tr>\n",
       "      <th>329</th>\n",
       "      <td>329</td>\n",
       "      <td>8.65</td>\n",
       "      <td>[-0.0007651378184016665, -0.0008058439279037038]</td>\n",
       "      <td>[-0.0007890496806219271, -0.0007599805315289209]</td>\n",
       "      <td>[-0.0007536718347935453, -0.0008231703661303283]</td>\n",
       "      <td>[-0.000769578044448128, -0.0007589915538810386]</td>\n",
       "    </tr>\n",
       "    <tr>\n",
       "      <th>337</th>\n",
       "      <td>337</td>\n",
       "      <td>8.60</td>\n",
       "      <td>[-0.0012244827218250752, -0.0011856979564531952]</td>\n",
       "      <td>[-0.0012077259464266447, -0.001176293786939305]</td>\n",
       "      <td>[-0.0011803553230365347, -0.0012108023663236068]</td>\n",
       "      <td>[-0.0011513872112937766, -0.001144544738848586]</td>\n",
       "    </tr>\n",
       "    <tr>\n",
       "      <th>907</th>\n",
       "      <td>907</td>\n",
       "      <td>8.60</td>\n",
       "      <td>[-0.0029736747855068583, -0.0029673830671130327]</td>\n",
       "      <td>[-0.0030169997765917235, -0.0029914571351056813]</td>\n",
       "      <td>[-0.002929054519985992, -0.0030010830395307215]</td>\n",
       "      <td>[-0.0030107957696826415, -0.003004778732285149]</td>\n",
       "    </tr>\n",
       "    <tr>\n",
       "      <th>729</th>\n",
       "      <td>729</td>\n",
       "      <td>8.55</td>\n",
       "      <td>[0.006241867639590847, 0.006175025273667957]</td>\n",
       "      <td>[0.006166995747203648, 0.006200555202718986]</td>\n",
       "      <td>[0.006262002225001463, 0.006168599576724899]</td>\n",
       "      <td>[0.0062069305254357065, 0.006189338333035612]</td>\n",
       "    </tr>\n",
       "    <tr>\n",
       "      <th>599</th>\n",
       "      <td>599</td>\n",
       "      <td>8.55</td>\n",
       "      <td>[-0.00010447890820679262, -6.562865143179813e-05]</td>\n",
       "      <td>[-3.0104042926864735e-05, -6.166580559662915e-05]</td>\n",
       "      <td>[-2.5302299497265146e-05, -0.0001133770709763034]</td>\n",
       "      <td>[-4.257923515139667e-05, -7.653373511804559e-05]</td>\n",
       "    </tr>\n",
       "  </tbody>\n",
       "</table>\n",
       "<p>1000 rows × 6 columns</p>\n",
       "</div>"
      ],
      "text/plain": [
       "     iteration  avg_reward                                             w1_pos  \\\n",
       "963        963      500.00    [0.00048082805941620783, 0.0004779361088813759]   \n",
       "78          78      500.00   [-0.0017323853972160755, -0.0017277257736339298]   \n",
       "359        359      500.00   [-0.0005446165070379282, -0.0005367516985413328]   \n",
       "617        617      500.00     [0.0012996819972521296, 0.0012987238874499131]   \n",
       "16          16      500.00      [0.0021342716670168264, 0.002115835701337075]   \n",
       "..         ...         ...                                                ...   \n",
       "329        329        8.65   [-0.0007651378184016665, -0.0008058439279037038]   \n",
       "337        337        8.60   [-0.0012244827218250752, -0.0011856979564531952]   \n",
       "907        907        8.60   [-0.0029736747855068583, -0.0029673830671130327]   \n",
       "729        729        8.55       [0.006241867639590847, 0.006175025273667957]   \n",
       "599        599        8.55  [-0.00010447890820679262, -6.562865143179813e-05]   \n",
       "\n",
       "                                                w2_vlc  \\\n",
       "963     [0.0004301440354435727, 0.0004480473303500093]   \n",
       "78    [-0.0017281445555149136, -0.0017066640494773503]   \n",
       "359   [-0.0005466502958073948, -0.0005440958412517213]   \n",
       "617      [0.001261489000091717, 0.0012898493943839372]   \n",
       "16       [0.0020963512322657142, 0.002155960106052966]   \n",
       "..                                                 ...   \n",
       "329   [-0.0007890496806219271, -0.0007599805315289209]   \n",
       "337    [-0.0012077259464266447, -0.001176293786939305]   \n",
       "907   [-0.0030169997765917235, -0.0029914571351056813]   \n",
       "729       [0.006166995747203648, 0.006200555202718986]   \n",
       "599  [-3.0104042926864735e-05, -6.166580559662915e-05]   \n",
       "\n",
       "                                              w3_angle  \\\n",
       "963    [0.0004388586367759749, 0.00047940308900509885]   \n",
       "78    [-0.0017296661882747677, -0.0017081680510310122]   \n",
       "359    [-0.0005230030374690277, -0.000476980424516594]   \n",
       "617     [0.0012623664733844742, 0.0013338347766330618]   \n",
       "16         [0.0020937832728005, 0.0021699818696718333]   \n",
       "..                                                 ...   \n",
       "329   [-0.0007536718347935453, -0.0008231703661303283]   \n",
       "337   [-0.0011803553230365347, -0.0012108023663236068]   \n",
       "907    [-0.002929054519985992, -0.0030010830395307215]   \n",
       "729       [0.006262002225001463, 0.006168599576724899]   \n",
       "599  [-2.5302299497265146e-05, -0.0001133770709763034]   \n",
       "\n",
       "                                          w4_angl_vlc  \n",
       "963  [0.00045960007401089366, 0.00048165862977164547]  \n",
       "78     [-0.001767977244146673, -0.001744603378011053]  \n",
       "359   [-0.000546245369496335, -0.0005338170342338197]  \n",
       "617    [0.0012800738239926856, 0.0013153402972305719]  \n",
       "16       [0.002097709463817673, 0.002160579456297324]  \n",
       "..                                                ...  \n",
       "329   [-0.000769578044448128, -0.0007589915538810386]  \n",
       "337   [-0.0011513872112937766, -0.001144544738848586]  \n",
       "907   [-0.0030107957696826415, -0.003004778732285149]  \n",
       "729     [0.0062069305254357065, 0.006189338333035612]  \n",
       "599  [-4.257923515139667e-05, -7.653373511804559e-05]  \n",
       "\n",
       "[1000 rows x 6 columns]"
      ]
     },
     "metadata": {},
     "output_type": "display_data"
    }
   ],
   "source": [
    "num_episodes = 20\n",
    "num_iterations = 1000\n",
    "results = list()\n",
    "best_weights = None\n",
    "best_reward = 0\n",
    "for iteration in range(num_iterations):\n",
    "    iterationReward = 0\n",
    "    env.reset()\n",
    "    agent = SimmulatedAnnealingAgent(env)\n",
    "    \n",
    "    for ep in range(num_episodes):\n",
    "        state = env.reset()\n",
    "        total_reward = 0\n",
    "        done = False\n",
    "        while not done:\n",
    "            action = agent.get_action(state)\n",
    "            state, reward, done, info = env.step(action)\n",
    "            total_reward += reward\n",
    "\n",
    "        agent.update_model(total_reward)\n",
    "        #print(\"Episode: {}, total_reward: {:.2f}\".format(ep, total_reward))\n",
    "        iterationReward = iterationReward + total_reward\n",
    "    \n",
    "    if iterationReward > best_reward:\n",
    "        best_weights = agent.best_weights\n",
    "    \n",
    "    iterationReward = iterationReward / episodes\n",
    "    results.append({'iteration':iteration, 'avg_reward': iterationReward, \n",
    "                   'w1_pos': agent.best_weights[0],'w2_vlc': agent.best_weights[1],'w3_angle': agent.best_weights[2],'w4_angl_vlc': agent.best_weights[3]})\n",
    "\n",
    "output = pd.DataFrame(results)\n",
    "output = output.sort_values(by='avg_reward', ascending=False)\n",
    "display(output)\n"
   ]
  },
  {
   "cell_type": "markdown",
   "id": "9f956399",
   "metadata": {},
   "source": [
    "## Adaptive noise scaling\n",
    "\n",
    "Modify the simulated annealing algorithm in the following way:\n",
    "Reduce the standard deviation of the distribution we sample the noise from when the new reward is higher than the previous reward. Otherwise increase the standard deviation. For example you can half or double the standard deviation. It’s up to you to find a good value for the scaling factor.\n",
    "- Run 1000 iteration. For each iteration set the weights to a random value (in a realistic range) and evaluate these weights by running 20 episodes. The achieved reward for one iteration (and thus a weight vector) is the average reward over the 20 episodes. Store the history of iterations (average reward and the weight vector).\n",
    "- Which weight vector yields the highest average reward?\n",
    "- Now test these best weights over 1000 episodes. What is the average reward you have achieved? Plot the histogram of the rewards."
   ]
  },
  {
   "cell_type": "code",
   "execution_count": 76,
   "id": "62c038aa",
   "metadata": {
    "ExecuteTime": {
     "end_time": "2022-03-13T15:13:26.405067Z",
     "start_time": "2022-03-13T15:13:26.389823Z"
    }
   },
   "outputs": [],
   "source": [
    "class AdaptiveNoiseScalingAgent():\n",
    "    def __init__(self, env, temperature=100000, cooling_rate=0.993, spread=0.001):\n",
    "        self.shape = env.observation_space.shape\n",
    "        self.action_count = env.action_space.n\n",
    "        self.temperature = temperature  # Learning rate\n",
    "        self.cooling_rate = cooling_rate  # Decay in impact of temperature\n",
    "        self.spread = spread  # Spread of randomness when selecting new values to test\n",
    "\n",
    "        self.initialize()\n",
    "        \n",
    "    def initialize(self):\n",
    "        # Random initialization of weights\n",
    "        self.weights = 1e-4*np.random.rand(*self.shape, self.action_count)\n",
    "        self.best_reward = -np.Inf\n",
    "        self.best_weights = np.copy(self.weights)\n",
    "        self.min_spread = 1e-4\n",
    "        self.max_spread = 1\n",
    "        self.noise_scale = 1e-2\n",
    "        \n",
    "    def initialize_weights(self, weights):\n",
    "        # Random initialization of weights\n",
    "        self.weights = weights\n",
    "        self.best_weights = np.copy(self.weights)\n",
    "        \n",
    "    def get_action(self, state):\n",
    "        # Calculate action, based on the state & weights\n",
    "        p = np.dot(state, self.weights)\n",
    "        action = np.argmax(p)\n",
    "        return action\n",
    "    \n",
    "    def update_model(self, reward):\n",
    "        if reward >= self.best_reward:\n",
    "            # Better reward to save\n",
    "            self.spread = max(self.spread/2, self.min_spread)\n",
    "            self.best_reward = reward\n",
    "            self.best_weights = np.copy(self.weights)\n",
    "        else:\n",
    "            reward_difference = (reward - best_reward)\n",
    "            p = np.exp(reward_difference/self.temperature)\n",
    "            if np.random.rand() < p:\n",
    "                self.best_reward = reward\n",
    "                self.best_weights = self.weights\n",
    "                self.spread = min(self.spread*2, self.max_spread)\n",
    "                \n",
    "        \n",
    "        # Randomly adjust weights\n",
    "        self.weights = self.best_weights + np.random.normal(loc=0,scale= self.spread) \n",
    "        self.temperature = self.cooling_rate * self.temperature\n",
    "    "
   ]
  },
  {
   "cell_type": "code",
   "execution_count": 77,
   "id": "84533b4a",
   "metadata": {
    "ExecuteTime": {
     "end_time": "2022-03-13T15:13:36.179520Z",
     "start_time": "2022-03-13T15:13:29.528156Z"
    }
   },
   "outputs": [
    {
     "data": {
      "text/html": [
       "<div>\n",
       "<style scoped>\n",
       "    .dataframe tbody tr th:only-of-type {\n",
       "        vertical-align: middle;\n",
       "    }\n",
       "\n",
       "    .dataframe tbody tr th {\n",
       "        vertical-align: top;\n",
       "    }\n",
       "\n",
       "    .dataframe thead th {\n",
       "        text-align: right;\n",
       "    }\n",
       "</style>\n",
       "<table border=\"1\" class=\"dataframe\">\n",
       "  <thead>\n",
       "    <tr style=\"text-align: right;\">\n",
       "      <th></th>\n",
       "      <th>iteration</th>\n",
       "      <th>avg_reward</th>\n",
       "      <th>w1_pos</th>\n",
       "      <th>w2_vlc</th>\n",
       "      <th>w3_angle</th>\n",
       "      <th>w4_angl_vlc</th>\n",
       "    </tr>\n",
       "  </thead>\n",
       "  <tbody>\n",
       "    <tr>\n",
       "      <th>111</th>\n",
       "      <td>111</td>\n",
       "      <td>500.00</td>\n",
       "      <td>[0.0004195094959531857, 0.0004228708601564977]</td>\n",
       "      <td>[0.0003556685956578452, 0.0003727685870160271]</td>\n",
       "      <td>[0.0003949108455081987, 0.00042921354162113646]</td>\n",
       "      <td>[0.00039171390364399575, 0.0004444299728363807]</td>\n",
       "    </tr>\n",
       "    <tr>\n",
       "      <th>303</th>\n",
       "      <td>303</td>\n",
       "      <td>500.00</td>\n",
       "      <td>[0.0004856389344717497, 0.0004904290936966635]</td>\n",
       "      <td>[0.00046892093135958, 0.00046591574555840875]</td>\n",
       "      <td>[0.0004484135833014611, 0.0005214384712490805]</td>\n",
       "      <td>[0.0004482798351113056, 0.0004976354120586874]</td>\n",
       "    </tr>\n",
       "    <tr>\n",
       "      <th>822</th>\n",
       "      <td>822</td>\n",
       "      <td>500.00</td>\n",
       "      <td>[-7.467633103883763e-05, -5.458433080257991e-05]</td>\n",
       "      <td>[-1.859341542942074e-05, -9.580422602610566e-06]</td>\n",
       "      <td>[-7.136769105653742e-05, 2.2509894164673223e-06]</td>\n",
       "      <td>[-4.4031804826603175e-05, -3.245212100972841e-05]</td>\n",
       "    </tr>\n",
       "    <tr>\n",
       "      <th>235</th>\n",
       "      <td>235</td>\n",
       "      <td>500.00</td>\n",
       "      <td>[-0.0002033183255811779, -0.00021166671467779733]</td>\n",
       "      <td>[-0.0002506886427399998, -0.00020969004843725392]</td>\n",
       "      <td>[-0.0002502278130857439, -0.0002133163748044418]</td>\n",
       "      <td>[-0.00024294751320590898, -0.0001982566077951537]</td>\n",
       "    </tr>\n",
       "    <tr>\n",
       "      <th>887</th>\n",
       "      <td>887</td>\n",
       "      <td>500.00</td>\n",
       "      <td>[-0.0009122898109517994, -0.0008997425145515953]</td>\n",
       "      <td>[-0.0008602005574908833, -0.0008514205093858051]</td>\n",
       "      <td>[-0.0009290851444236927, -0.0008508609614658815]</td>\n",
       "      <td>[-0.0009333888398734723, -0.0009105255843621219]</td>\n",
       "    </tr>\n",
       "    <tr>\n",
       "      <th>...</th>\n",
       "      <td>...</td>\n",
       "      <td>...</td>\n",
       "      <td>...</td>\n",
       "      <td>...</td>\n",
       "      <td>...</td>\n",
       "      <td>...</td>\n",
       "    </tr>\n",
       "    <tr>\n",
       "      <th>944</th>\n",
       "      <td>944</td>\n",
       "      <td>8.70</td>\n",
       "      <td>[-4.460834094281555e-05, -8.680076250915355e-05]</td>\n",
       "      <td>[-7.496427022504097e-05, -4.032267789894273e-05]</td>\n",
       "      <td>[-3.7888249516696334e-05, -0.00010824193944544...</td>\n",
       "      <td>[-4.952259519860588e-05, -8.175704173518544e-05]</td>\n",
       "    </tr>\n",
       "    <tr>\n",
       "      <th>688</th>\n",
       "      <td>688</td>\n",
       "      <td>8.70</td>\n",
       "      <td>[-0.0004314890209379452, -0.0004665881327863143]</td>\n",
       "      <td>[-0.00043389474678203393, -0.0004429537378745965]</td>\n",
       "      <td>[-0.0003900083919249346, -0.00047986645549005156]</td>\n",
       "      <td>[-0.0004248278984752, -0.00045438838482891284]</td>\n",
       "    </tr>\n",
       "    <tr>\n",
       "      <th>976</th>\n",
       "      <td>976</td>\n",
       "      <td>8.65</td>\n",
       "      <td>[0.0009522144579193077, 0.0009182242149466724]</td>\n",
       "      <td>[0.0009277367175019202, 0.0009483303017757068]</td>\n",
       "      <td>[0.0009506000806533301, 0.0009073512622986614]</td>\n",
       "      <td>[0.0009475630042784759, 0.0009002934013443178]</td>\n",
       "    </tr>\n",
       "    <tr>\n",
       "      <th>204</th>\n",
       "      <td>204</td>\n",
       "      <td>8.65</td>\n",
       "      <td>[-5.529109055466241e-05, -4.371540408022609e-05]</td>\n",
       "      <td>[-2.845739940357208e-05, -4.850666150794122e-06]</td>\n",
       "      <td>[-8.881532209457845e-06, -4.341391676869656e-05]</td>\n",
       "      <td>[-5.685372822167935e-05, -5.808990468898989e-05]</td>\n",
       "    </tr>\n",
       "    <tr>\n",
       "      <th>259</th>\n",
       "      <td>259</td>\n",
       "      <td>8.65</td>\n",
       "      <td>[-0.0023712735015399998, -0.002395035774003354]</td>\n",
       "      <td>[-0.002349179935688217, -0.0023385617098646864]</td>\n",
       "      <td>[-0.0023309486334077163, -0.0024236537901144483]</td>\n",
       "      <td>[-0.0023380711238455984, -0.002401039358653952]</td>\n",
       "    </tr>\n",
       "  </tbody>\n",
       "</table>\n",
       "<p>1000 rows × 6 columns</p>\n",
       "</div>"
      ],
      "text/plain": [
       "     iteration  avg_reward                                             w1_pos  \\\n",
       "111        111      500.00     [0.0004195094959531857, 0.0004228708601564977]   \n",
       "303        303      500.00     [0.0004856389344717497, 0.0004904290936966635]   \n",
       "822        822      500.00   [-7.467633103883763e-05, -5.458433080257991e-05]   \n",
       "235        235      500.00  [-0.0002033183255811779, -0.00021166671467779733]   \n",
       "887        887      500.00   [-0.0009122898109517994, -0.0008997425145515953]   \n",
       "..         ...         ...                                                ...   \n",
       "944        944        8.70   [-4.460834094281555e-05, -8.680076250915355e-05]   \n",
       "688        688        8.70   [-0.0004314890209379452, -0.0004665881327863143]   \n",
       "976        976        8.65     [0.0009522144579193077, 0.0009182242149466724]   \n",
       "204        204        8.65   [-5.529109055466241e-05, -4.371540408022609e-05]   \n",
       "259        259        8.65    [-0.0023712735015399998, -0.002395035774003354]   \n",
       "\n",
       "                                                w2_vlc  \\\n",
       "111     [0.0003556685956578452, 0.0003727685870160271]   \n",
       "303      [0.00046892093135958, 0.00046591574555840875]   \n",
       "822   [-1.859341542942074e-05, -9.580422602610566e-06]   \n",
       "235  [-0.0002506886427399998, -0.00020969004843725392]   \n",
       "887   [-0.0008602005574908833, -0.0008514205093858051]   \n",
       "..                                                 ...   \n",
       "944   [-7.496427022504097e-05, -4.032267789894273e-05]   \n",
       "688  [-0.00043389474678203393, -0.0004429537378745965]   \n",
       "976     [0.0009277367175019202, 0.0009483303017757068]   \n",
       "204   [-2.845739940357208e-05, -4.850666150794122e-06]   \n",
       "259    [-0.002349179935688217, -0.0023385617098646864]   \n",
       "\n",
       "                                              w3_angle  \\\n",
       "111    [0.0003949108455081987, 0.00042921354162113646]   \n",
       "303     [0.0004484135833014611, 0.0005214384712490805]   \n",
       "822   [-7.136769105653742e-05, 2.2509894164673223e-06]   \n",
       "235   [-0.0002502278130857439, -0.0002133163748044418]   \n",
       "887   [-0.0009290851444236927, -0.0008508609614658815]   \n",
       "..                                                 ...   \n",
       "944  [-3.7888249516696334e-05, -0.00010824193944544...   \n",
       "688  [-0.0003900083919249346, -0.00047986645549005156]   \n",
       "976     [0.0009506000806533301, 0.0009073512622986614]   \n",
       "204   [-8.881532209457845e-06, -4.341391676869656e-05]   \n",
       "259   [-0.0023309486334077163, -0.0024236537901144483]   \n",
       "\n",
       "                                           w4_angl_vlc  \n",
       "111    [0.00039171390364399575, 0.0004444299728363807]  \n",
       "303     [0.0004482798351113056, 0.0004976354120586874]  \n",
       "822  [-4.4031804826603175e-05, -3.245212100972841e-05]  \n",
       "235  [-0.00024294751320590898, -0.0001982566077951537]  \n",
       "887   [-0.0009333888398734723, -0.0009105255843621219]  \n",
       "..                                                 ...  \n",
       "944   [-4.952259519860588e-05, -8.175704173518544e-05]  \n",
       "688     [-0.0004248278984752, -0.00045438838482891284]  \n",
       "976     [0.0009475630042784759, 0.0009002934013443178]  \n",
       "204   [-5.685372822167935e-05, -5.808990468898989e-05]  \n",
       "259    [-0.0023380711238455984, -0.002401039358653952]  \n",
       "\n",
       "[1000 rows x 6 columns]"
      ]
     },
     "metadata": {},
     "output_type": "display_data"
    }
   ],
   "source": [
    "num_episodes = 20\n",
    "num_iterations = 1000\n",
    "results = list()\n",
    "best_weights = None\n",
    "best_reward = 0\n",
    "for iteration in range(num_iterations):\n",
    "    iterationReward = 0\n",
    "    env.reset()\n",
    "    agent = AdaptiveNoiseScalingAgent(env)\n",
    "    \n",
    "    for ep in range(num_episodes):\n",
    "        state = env.reset()\n",
    "        total_reward = 0\n",
    "        done = False\n",
    "        while not done:\n",
    "            action = agent.get_action(state)\n",
    "            state, reward, done, info = env.step(action)\n",
    "            total_reward += reward\n",
    "\n",
    "        agent.update_model(total_reward)\n",
    "        #print(\"Episode: {}, total_reward: {:.2f}\".format(ep, total_reward))\n",
    "        iterationReward = iterationReward + total_reward\n",
    "    \n",
    "    if iterationReward > best_reward:\n",
    "        best_weights = agent.best_weights\n",
    "    \n",
    "    iterationReward = iterationReward / episodes\n",
    "    results.append({'iteration':iteration, 'avg_reward': iterationReward, \n",
    "                   'w1_pos': agent.best_weights[0],'w2_vlc': agent.best_weights[1],'w3_angle': agent.best_weights[2],'w4_angl_vlc': agent.best_weights[3]})\n",
    "\n",
    "output = pd.DataFrame(results)\n",
    "output = output.sort_values(by='avg_reward', ascending=False)\n",
    "display(output)\n"
   ]
  },
  {
   "cell_type": "markdown",
   "id": "719ca541",
   "metadata": {},
   "source": [
    "## Extensions & conclusions\n",
    "\n",
    "How do these different search algorithms compare to or differ from each other in terms of reward and computational efficiency?\n",
    "- Check if you can solve the cartpole-V1 environment. This environment has a maximum number of episodes steps of 500 where the cartpole-V0 is limited to 200 episode steps.\n",
    "    > Was easy to do and it worked as well.  Several times reached the 500 max reward as well\n",
    "- Does it make sense to increase the number of observation variables by deriving new observations from the existing ones? Think of it as feature expansion in machine learning.\n",
    "    > It does not seem to make sense, as we just work linear and also we have just reached max reward easily\n",
    "- Consider the MountainCar-v0 environment. Argument whether or not it is possible "
   ]
  },
  {
   "cell_type": "code",
   "execution_count": null,
   "id": "9b5c157d",
   "metadata": {},
   "outputs": [],
   "source": []
  },
  {
   "cell_type": "code",
   "execution_count": null,
   "id": "e4565970",
   "metadata": {},
   "outputs": [],
   "source": []
  }
 ],
 "metadata": {
  "kernelspec": {
   "display_name": "spyder",
   "language": "python",
   "name": "spyder"
  },
  "language_info": {
   "codemirror_mode": {
    "name": "ipython",
    "version": 3
   },
   "file_extension": ".py",
   "mimetype": "text/x-python",
   "name": "python",
   "nbconvert_exporter": "python",
   "pygments_lexer": "ipython3",
   "version": "3.10.2"
  },
  "toc": {
   "base_numbering": 1,
   "nav_menu": {},
   "number_sections": true,
   "sideBar": true,
   "skip_h1_title": false,
   "title_cell": "Table of Contents",
   "title_sidebar": "Contents",
   "toc_cell": false,
   "toc_position": {},
   "toc_section_display": true,
   "toc_window_display": false
  },
  "varInspector": {
   "cols": {
    "lenName": 16,
    "lenType": 16,
    "lenVar": 40
   },
   "kernels_config": {
    "python": {
     "delete_cmd_postfix": "",
     "delete_cmd_prefix": "del ",
     "library": "var_list.py",
     "varRefreshCmd": "print(var_dic_list())"
    },
    "r": {
     "delete_cmd_postfix": ") ",
     "delete_cmd_prefix": "rm(",
     "library": "var_list.r",
     "varRefreshCmd": "cat(var_dic_list()) "
    }
   },
   "types_to_exclude": [
    "module",
    "function",
    "builtin_function_or_method",
    "instance",
    "_Feature"
   ],
   "window_display": false
  }
 },
 "nbformat": 4,
 "nbformat_minor": 5
}
